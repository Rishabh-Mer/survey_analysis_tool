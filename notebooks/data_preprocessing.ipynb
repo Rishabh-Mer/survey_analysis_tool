{
 "cells": [
  {
   "cell_type": "markdown",
   "metadata": {},
   "source": [
    "## <font color=\"Orange\">Data Preprocessing</font>"
   ]
  },
  {
   "cell_type": "code",
   "execution_count": 198,
   "metadata": {
    "vscode": {
     "languageId": "plaintext"
    }
   },
   "outputs": [
    {
     "data": {
      "text/plain": [
       "True"
      ]
     },
     "execution_count": 198,
     "metadata": {},
     "output_type": "execute_result"
    }
   ],
   "source": [
    "import os\n",
    "import sys\n",
    "sys.path.append(os.path.abspath(\"..\"))\n",
    "\n",
    "from backend.utils import get_all_files\n",
    "from IPython.display import Image, display\n",
    "from unstructured.partition.pdf import partition_pdf\n",
    "from unstructured.documents.elements import CompositeElement, Element\n",
    "from langchain_core.prompts import ChatPromptTemplate\n",
    "from langchain_core.output_parsers import StrOutputParser\n",
    "from langchain_community.llms import HuggingFacePipeline\n",
    "from langchain_ollama.llms import OllamaLLM\n",
    "from langchain_openai import ChatOpenAI\n",
    "from langchain_openai import OpenAIEmbeddings\n",
    "from langchain_chroma import Chroma\n",
    "from langchain.storage import InMemoryStore\n",
    "from langchain.schema.document import Document\n",
    "from langchain.retrievers.multi_vector import MultiVectorRetriever\n",
    "from langchain_core.runnables import RunnablePassthrough, RunnableLambda\n",
    "from langchain_core.messages import SystemMessage, HumanMessage\n",
    "\n",
    "\n",
    "from transformers import AutoTokenizer, AutoModelForCausalLM, pipeline\n",
    "\n",
    "from huggingface_hub import login, whoami\n",
    "\n",
    "import base64\n",
    "from base64 import b64decode\n",
    "import uuid\n",
    "from dotenv import load_dotenv\n",
    "\n",
    "load_dotenv()"
   ]
  },
  {
   "cell_type": "markdown",
   "metadata": {},
   "source": [
    "<font color=\"cyan\">create a function to glob pdfs from YAML file</font>"
   ]
  },
  {
   "cell_type": "code",
   "execution_count": 91,
   "metadata": {},
   "outputs": [],
   "source": [
    "pdf_path = \"../data/ConocoPhillips Proxy Statement 2024.pdf\"\n",
    "pdf_path_2 = \"../data/ConocoPhillips AIM Presentation 2023.pdf\""
   ]
  },
  {
   "cell_type": "code",
   "execution_count": 5,
   "metadata": {},
   "outputs": [],
   "source": [
    "# output file path\n",
    "output_path = \"../data/images/\"\n",
    "\n",
    "pdf_chunks = partition_pdf(\n",
    "    filename=pdf_path,\n",
    "    infer_table_structure=True,\n",
    "    strategy=\"hi_res\",\n",
    "    # extract_image_block_types=[\"Image\"],\n",
    "    # extract_image_block_output_dir=output_path,\n",
    "    extract_image_block_to_payload=False,\n",
    "    chunking_strategy=\"by_title\",\n",
    "    max_characters=15000,\n",
    "    combine_text_under_n_chars=5000,\n",
    "    new_after_n_chars=10000\n",
    ")"
   ]
  },
  {
   "cell_type": "code",
   "execution_count": 96,
   "metadata": {},
   "outputs": [],
   "source": [
    "pdf_chunks_2 = partition_pdf(\n",
    "\n",
    "    filename=pdf_path_2,\n",
    "    infer_table_structure=True,\n",
    "    strategy=\"hi_res\",\n",
    "    # extract_image_block_types=[\"Image\"],\n",
    "    # extract_image_block_output_dir=output_path,\n",
    "    extract_image_block_to_payload=False,\n",
    "    chunking_strategy=\"by_title\",\n",
    "    max_characters=2000,\n",
    "    combine_text_under_n_chars=300,\n",
    "    new_after_n_chars=1500\n",
    ")"
   ]
  },
  {
   "cell_type": "code",
   "execution_count": 143,
   "metadata": {},
   "outputs": [],
   "source": [
    "full_chunks = pdf_chunks + pdf_chunks_2"
   ]
  },
  {
   "cell_type": "markdown",
   "metadata": {},
   "source": [
    "### <font color=\"#6699CC\" >Extracting text, table and images </font>"
   ]
  },
  {
   "cell_type": "code",
   "execution_count": 268,
   "metadata": {},
   "outputs": [],
   "source": [
    "texts = []\n",
    "tables = []\n",
    "images = []"
   ]
  },
  {
   "cell_type": "code",
   "execution_count": 269,
   "metadata": {},
   "outputs": [],
   "source": [
    "# Process each CompositeElement\n",
    "for composite in full_chunks:\n",
    "    new_inner_elements = []\n",
    "    \n",
    "    # Iterate through the inner elements of the CompositeElement\n",
    "    for inner_element in composite.metadata.orig_elements:\n",
    "        \n",
    "        if \"Table\" in str(type(inner_element)):\n",
    "            # Append table elements to the separate list\n",
    "            tables.append(inner_element)\n",
    "        elif \"Image\" in str(type(inner_element)):\n",
    "            # Skip image elements (they are removed)\n",
    "            continue\n",
    "        else:\n",
    "            # Keep other elements\n",
    "            new_inner_elements.append(inner_element)\n",
    "\n",
    "    # If there are remaining elements, keep the CompositeElement\n",
    "    if new_inner_elements:\n",
    "        composite.elements = new_inner_elements\n",
    "        texts.append(composite)"
   ]
  },
  {
   "cell_type": "code",
   "execution_count": 270,
   "metadata": {},
   "outputs": [
    {
     "data": {
      "text/plain": [
       "[<unstructured.documents.elements.Table at 0x335d9c6e0>,\n",
       " <unstructured.documents.elements.Table at 0x336410b30>,\n",
       " <unstructured.documents.elements.Table at 0x3327a9f70>,\n",
       " <unstructured.documents.elements.Table at 0x3327a8dd0>,\n",
       " <unstructured.documents.elements.Table at 0x34d79b260>,\n",
       " <unstructured.documents.elements.Table at 0x178a39b80>,\n",
       " <unstructured.documents.elements.Table at 0x17893fcb0>,\n",
       " <unstructured.documents.elements.Table at 0x178308e90>,\n",
       " <unstructured.documents.elements.Table at 0x17fd8c230>,\n",
       " <unstructured.documents.elements.Table at 0x1783b3140>,\n",
       " <unstructured.documents.elements.Table at 0x335d40770>,\n",
       " <unstructured.documents.elements.Table at 0x17fe166f0>,\n",
       " <unstructured.documents.elements.Table at 0x3399c8b60>,\n",
       " <unstructured.documents.elements.Table at 0x3365aa600>,\n",
       " <unstructured.documents.elements.Table at 0x17cf44c50>,\n",
       " <unstructured.documents.elements.Table at 0x34d13ecc0>,\n",
       " <unstructured.documents.elements.Table at 0x34d170320>,\n",
       " <unstructured.documents.elements.Table at 0x34d172ff0>,\n",
       " <unstructured.documents.elements.Table at 0x34d170a10>,\n",
       " <unstructured.documents.elements.Table at 0x1784109e0>,\n",
       " <unstructured.documents.elements.Table at 0x33aedf6b0>,\n",
       " <unstructured.documents.elements.Table at 0x1786ba450>,\n",
       " <unstructured.documents.elements.Table at 0x17d0b0320>,\n",
       " <unstructured.documents.elements.Table at 0x17d0b0da0>,\n",
       " <unstructured.documents.elements.Table at 0x17fe86330>,\n",
       " <unstructured.documents.elements.Table at 0x17fe86ba0>,\n",
       " <unstructured.documents.elements.Table at 0x17fe86ff0>,\n",
       " <unstructured.documents.elements.Table at 0x178905b80>,\n",
       " <unstructured.documents.elements.Table at 0x1789068d0>,\n",
       " <unstructured.documents.elements.Table at 0x1789ef5c0>,\n",
       " <unstructured.documents.elements.Table at 0x1789ecef0>,\n",
       " <unstructured.documents.elements.Table at 0x33b18a720>,\n",
       " <unstructured.documents.elements.Table at 0x33b312e40>,\n",
       " <unstructured.documents.elements.Table at 0x33b1437d0>,\n",
       " <unstructured.documents.elements.Table at 0x33b140230>,\n",
       " <unstructured.documents.elements.Table at 0x33b141160>,\n",
       " <unstructured.documents.elements.Table at 0x336dae180>,\n",
       " <unstructured.documents.elements.Table at 0x336dadf70>,\n",
       " <unstructured.documents.elements.Table at 0x336dad9a0>,\n",
       " <unstructured.documents.elements.Table at 0x336159610>,\n",
       " <unstructured.documents.elements.Table at 0x33b0e9700>,\n",
       " <unstructured.documents.elements.Table at 0x33b0e9b80>,\n",
       " <unstructured.documents.elements.Table at 0x33b0fb680>,\n",
       " <unstructured.documents.elements.Table at 0x33b0fa2a0>,\n",
       " <unstructured.documents.elements.Table at 0x33b0f8320>,\n",
       " <unstructured.documents.elements.Table at 0x17e89a720>,\n",
       " <unstructured.documents.elements.Table at 0x17e89aff0>,\n",
       " <unstructured.documents.elements.Table at 0x179347920>,\n",
       " <unstructured.documents.elements.Table at 0x1793471a0>,\n",
       " <unstructured.documents.elements.Table at 0x179347020>,\n",
       " <unstructured.documents.elements.Table at 0x335e42210>,\n",
       " <unstructured.documents.elements.Table at 0x335e41be0>,\n",
       " <unstructured.documents.elements.Table at 0x335e41d30>,\n",
       " <unstructured.documents.elements.Table at 0x335e42240>,\n",
       " <unstructured.documents.elements.Table at 0x335e42540>,\n",
       " <unstructured.documents.elements.Table at 0x1792b0950>,\n",
       " <unstructured.documents.elements.Table at 0x1792b3ef0>,\n",
       " <unstructured.documents.elements.Table at 0x1792b0a40>,\n",
       " <unstructured.documents.elements.Table at 0x33acaede0>,\n",
       " <unstructured.documents.elements.Table at 0x33acae5a0>,\n",
       " <unstructured.documents.elements.Table at 0x33acace30>,\n",
       " <unstructured.documents.elements.Table at 0x17e6912b0>,\n",
       " <unstructured.documents.elements.Table at 0x17e6b8d10>,\n",
       " <unstructured.documents.elements.Table at 0x17e6b8da0>,\n",
       " <unstructured.documents.elements.Table at 0x17e6b88c0>,\n",
       " <unstructured.documents.elements.Table at 0x17e3e6c00>,\n",
       " <unstructured.documents.elements.Table at 0x333ab0a40>,\n",
       " <unstructured.documents.elements.Table at 0x333af87d0>,\n",
       " <unstructured.documents.elements.Table at 0x333ae4950>,\n",
       " <unstructured.documents.elements.Table at 0x335c4c1d0>,\n",
       " <unstructured.documents.elements.Table at 0x335c4f860>,\n",
       " <unstructured.documents.elements.Table at 0x335c4dd00>]"
      ]
     },
     "execution_count": 270,
     "metadata": {},
     "output_type": "execute_result"
    }
   ],
   "source": [
    "tables"
   ]
  },
  {
   "cell_type": "code",
   "execution_count": 271,
   "metadata": {},
   "outputs": [
    {
     "data": {
      "text/plain": [
       "(72, 166)"
      ]
     },
     "execution_count": 271,
     "metadata": {},
     "output_type": "execute_result"
    }
   ],
   "source": [
    "len(tables), len(texts)"
   ]
  },
  {
   "cell_type": "code",
   "execution_count": 272,
   "metadata": {},
   "outputs": [],
   "source": [
    "# base64 encode for images\n",
    "def encode_images(file_path):\n",
    "    with open(file_path, \"rb\") as file:\n",
    "        return base64.b64encode(file.read()).decode(\"utf-8\")"
   ]
  },
  {
   "cell_type": "code",
   "execution_count": 273,
   "metadata": {},
   "outputs": [],
   "source": [
    "# utils function to get list of files not working \n",
    "images_path = \"../data/images/\"\n",
    "image_lists = get_all_files(images_path, \"png\")"
   ]
  },
  {
   "cell_type": "code",
   "execution_count": 274,
   "metadata": {},
   "outputs": [],
   "source": [
    "# image_lists = ['../data/images/figure-39-105.jpg', '../data/images/figure-34-92.jpg', '../data/images/figure-16-31.jpg', '../data/images/figure-24-55.jpg', '../data/images/figure-38-101.jpg', '../data/images/figure-74-58.jpg', '../data/images/figure-6-8.jpg', '../data/images/figure-39-106.jpg', '../data/images/figure-43-128.jpg', '../data/images/figure-14-23.jpg', '../data/images/figure-38-103.jpg', '../data/images/figure-18-37.jpg', '../data/images/figure-120-59.jpg', '../data/images/figure-24-56.jpg', '../data/images/figure-50-149.jpg', '../data/images/figure-38-102.jpg', '../data/images/figure-43-129.jpg', '../data/images/figure-39-107.jpg', '../data/images/figure-120-60.jpg', '../data/images/figure-14-24.jpg', '../data/images/figure-27-66.jpg', '../data/images/figure-69-56.jpg', '../data/images/figure-32-87.jpg', '../data/images/figure-25-60.jpg', '../data/images/figure-12-20.jpg', '../data/images/figure-8-11.jpg', '../data/images/figure-27-70.jpg', '../data/images/figure-25-61.jpg', '../data/images/figure-32-86.jpg', '../data/images/figure-12-24.jpg', '../data/images/figure-45-136.jpg', '../data/images/figure-45-134.jpg', '../data/images/figure-22-47.jpg', '../data/images/figure-37-99.jpg', '../data/images/figure-37-98.jpg', '../data/images/figure-40-110.jpg', '../data/images/figure-44-130.jpg', '../data/images/figure-45-135.jpg', '../data/images/figure-17-33.jpg', '../data/images/figure-40-109.jpg', '../data/images/figure-29-80.jpg', '../data/images/figure-41-119.jpg', '../data/images/figure-22-48.jpg', '../data/images/figure-53-157.jpg', '../data/images/figure-17-35.jpg', '../data/images/figure-29-78.jpg', '../data/images/figure-29-79.jpg', '../data/images/figure-32-88.jpg', '../data/images/figure-17-36.jpg', '../data/images/figure-37-100.jpg', '../data/images/figure-7-7.jpg', '../data/images/figure-5-5.jpg', '../data/images/figure-41-120.jpg', '../data/images/figure-1-1.jpg', '../data/images/figure-28-75.jpg', '../data/images/figure-48-144.jpg', '../data/images/figure-26-64.jpg', '../data/images/figure-51-153.jpg', '../data/images/figure-23-54.jpg', '../data/images/figure-11-18.jpg', '../data/images/figure-51-152.jpg', '../data/images/figure-25-34.jpg', '../data/images/figure-26-65.jpg', '../data/images/figure-28-74.jpg', '../data/images/figure-21-44.jpg', '../data/images/figure-21-46.jpg', '../data/images/figure-42-124.jpg', '../data/images/figure-33-90.jpg', '../data/images/figure-42-125.jpg', '../data/images/figure-13-22.jpg', '../data/images/figure-55-159.jpg', '../data/images/figure-48-142.jpg', '../data/images/figure-50-150.jpg', '../data/images/figure-23-52.jpg', '../data/images/figure-23-53.jpg', '../data/images/figure-49-146.jpg', '../data/images/figure-48-143.jpg', '../data/images/figure-26-63.jpg', '../data/images/figure-6-7.jpg', '../data/images/figure-42-122.jpg', '../data/images/figure-24-58.jpg', '../data/images/figure-23-51.jpg', '../data/images/figure-18-38.jpg', '../data/images/figure-18-39.jpg', '../data/images/figure-42-123.jpg', '../data/images/figure-49-145.jpg']"
   ]
  },
  {
   "cell_type": "code",
   "execution_count": 276,
   "metadata": {},
   "outputs": [
    {
     "data": {
      "text/plain": [
       "32"
      ]
     },
     "execution_count": 276,
     "metadata": {},
     "output_type": "execute_result"
    }
   ],
   "source": [
    "len(image_lists)"
   ]
  },
  {
   "cell_type": "code",
   "execution_count": 277,
   "metadata": {},
   "outputs": [],
   "source": [
    "for image in image_lists:\n",
    "    base64_image = encode_images(image)\n",
    "    images.append(base64_image)"
   ]
  },
  {
   "cell_type": "markdown",
   "metadata": {},
   "source": [
    "### <font color=\"#f5b041\">Data Summarization</font>"
   ]
  },
  {
   "cell_type": "markdown",
   "metadata": {},
   "source": [
    "#### Text and Tables"
   ]
  },
  {
   "cell_type": "code",
   "execution_count": 278,
   "metadata": {},
   "outputs": [],
   "source": [
    "prompt_text = \"\"\"\n",
    "\n",
    "You are an assistant tasked with summarizing tables and text.\n",
    "Give a brief summary of the table or text.\n",
    "\n",
    "Repsond only with the summary, no additional comment.\n",
    "Do not start your sentence by saying \"Here is a summary\" or anything like that.\n",
    "Just give the summary as it is.\n",
    "\n",
    "for context the content is from 2 documents which is proxy statement of year 2024 and AIM (Analyst and investor meeting)of year 2023 \n",
    "of ConocoPhillips which is one of the world’s largest independent E&P companies \n",
    "based on production and proved reserves.\n",
    "\n",
    "Table or text chunk: {element}\n",
    "\n",
    "\"\"\""
   ]
  },
  {
   "cell_type": "code",
   "execution_count": 279,
   "metadata": {},
   "outputs": [],
   "source": [
    "prompt = ChatPromptTemplate.from_template(prompt_text)"
   ]
  },
  {
   "cell_type": "code",
   "execution_count": 280,
   "metadata": {},
   "outputs": [],
   "source": [
    "model = OllamaLLM(model=\"llama3.2:1b\")"
   ]
  },
  {
   "cell_type": "code",
   "execution_count": 281,
   "metadata": {},
   "outputs": [],
   "source": [
    "summarize_chain = prompt | model | StrOutputParser()"
   ]
  },
  {
   "cell_type": "code",
   "execution_count": 282,
   "metadata": {},
   "outputs": [],
   "source": [
    "tables_html = [table.metadata.text_as_html for table in tables]"
   ]
  },
  {
   "cell_type": "code",
   "execution_count": 283,
   "metadata": {},
   "outputs": [],
   "source": [
    "text_summaries = summarize_chain.batch(texts, {\"max_concurrency\": 3})"
   ]
  },
  {
   "cell_type": "code",
   "execution_count": 284,
   "metadata": {},
   "outputs": [],
   "source": [
    "table_summaries = summarize_chain.batch(tables_html, {\"max_concurrency\": 3})"
   ]
  },
  {
   "cell_type": "code",
   "execution_count": 291,
   "metadata": {},
   "outputs": [],
   "source": [
    "prompt_template_image = \"\"\"\n",
    "\n",
    "Describe the image in detail. For context,\n",
    "the image is part of two documents The ConocoPhillips 2024 Proxy Statement and 2023 Analyst & Investor Meeting Presentation outline the company's strategy, portfolio, financial plan, and sustainability goals. \n",
    "Key topics include board elections, executive compensation, financial performance, and stockholder engagement. \n",
    "The company emphasizes a disciplined, returns-focused strategy, strong financial discipline, and progress on its net-zero energy transition plan. It also highlights operational milestones, LNG expansion, and emissions reduction targets, reinforcing its commitment to long-term value creation for stockholders.\n",
    "\n",
    "### Instructions:\n",
    "- Provide a **detailed description** of the image.\n",
    "- If the image contains **graphs (e.g., bar charts, line graphs, pie charts)**, describe:\n",
    "  - The **type of chart** (bar, line, scatter, etc.).\n",
    "  - **Key trends, labels, and numerical values** visible.\n",
    "  - **Comparisons or significant insights** from the data.\n",
    "- If the image contains **tables or figures**, summarize their key takeaways.\n",
    "\n",
    "Focus on **clarity, accuracy, and relevance** while ensuring a structured and comprehensive response.\n",
    "\n",
    "\"\"\"\n",
    "\n",
    "messages = [\n",
    "    (\n",
    "        \"user\",\n",
    "        [\n",
    "            {\"type\": \"text\", \"text\": prompt_template_image},\n",
    "            {\n",
    "                \"type\": \"image_url\",\n",
    "                \"image_url\": {\"url\": \"data:image/jpeg;base64,{image}\"},\n",
    "            },\n",
    "        ],\n",
    "    )\n",
    "]"
   ]
  },
  {
   "cell_type": "code",
   "execution_count": 292,
   "metadata": {},
   "outputs": [],
   "source": [
    "image_prompt = ChatPromptTemplate.from_messages(messages)"
   ]
  },
  {
   "cell_type": "code",
   "execution_count": 293,
   "metadata": {},
   "outputs": [],
   "source": [
    "image_model = ChatOpenAI(model=\"gpt-4o-mini\")"
   ]
  },
  {
   "cell_type": "code",
   "execution_count": 294,
   "metadata": {},
   "outputs": [],
   "source": [
    "image_summarize_chain = image_prompt | image_model | StrOutputParser()"
   ]
  },
  {
   "cell_type": "code",
   "execution_count": 295,
   "metadata": {},
   "outputs": [],
   "source": [
    "image_summaries = image_summarize_chain.batch(images)"
   ]
  },
  {
   "cell_type": "code",
   "execution_count": 297,
   "metadata": {},
   "outputs": [
    {
     "data": {
      "text/plain": [
       "['The image is a stacked area chart titled \"Balanced, Diversified, Disciplined Production Growth.\" It visually represents the projected production growth of ConocoPhillips from the year 2023 to 2032, measured in thousands of barrels of oil equivalent per day (MBOED).\\n\\n### Chart Description:\\n\\n- **Y-Axis**: This axis ranges from 0 to 2,500 MBOED, indicating the total production capacity over the specified period.\\n- **X-Axis**: It spans from 2023 (estimated) to 2032, representing the future years of production projections.\\n\\n### Composition of the Chart:\\n\\n- The chart is segmented into four distinct areas, with varying colors representing different categories of production:\\n  - **Unconventional (Lower 48 + Montney)**: The bottom portion, depicted in dark blue, occupies the largest segment. It shows a projected growth rate of approximately 6% Compound Annual Growth Rate (CAGR) over the decade.\\n  - **Conventional**: The middle portion, shown in light blue, indicates a smaller growth contribution with a CAGR of around 3%.\\n  - **LNG + Surmont**: This is represented in green at the top, signifying modest growth at about 2% CAGR.\\n  \\n### Key Highlights:\\n\\n- **Overall Trend**: The chart illustrates a steady upward trend in production from 2023E to 2032, reflecting ConocoPhillips\\' strategic focus on expanding its production capabilities.\\n- **CAGR**: There is an overall production growth expectation of ~4-5% CAGR over the ten years, highlighting the company’s disciplined approach to production management.\\n- **Production Mix**:\\n  - The production mix at the top summarizes key components: Oil (~55%), NGL (Natural Gas Liquids) (~15%), North American Gas (~15%), and International Gas (~15%).\\n\\n### Insights:\\n\\n- The dominance of the Unconventional production segment suggests a strategic emphasis on leveraging unconventional resources, which are likely seen as key drivers of future growth.\\n- The slower growth rates for LNG + Surmont and Conventional segments may indicate a shift in focus towards more rapidly growing unconventional resources.\\n- This graphical representation aligns with ConocoPhillips’ communicated strategy of maintaining balanced and diversified production capabilities while targeting significant production increases across various segments. \\n\\nOverall, the image succinctly captures the company\\'s commitment to disciplined production growth and highlights its strategic priorities in various energy sectors.',\n",
       " 'The image provided contains two main visual elements related to ConocoPhillips’ strategic focus on their differentiated portfolio and production base.\\n\\n### Left Section: WTI Cost of Supply Bar Chart\\n- **Type of Chart**: This is a bar chart displaying the \"WTI Cost of Supply\" in relation to \"Resource (BBOE)\".\\n- **Axes**:\\n  - The **X-axis** represents the resource measured in billion barrels of oil equivalent (BBOE), ranging from 0 to 20.\\n  - The **Y-axis** indicates the cost of supply in dollars per barrel ($/BBL), ranging from $0 to $50.\\n- **Key Data**:\\n  - The average cost of supply is indicated at approximately **$32/BBL**.\\n  - The chart shows a stacked distribution of various regions, with blocks colored differently to represent each region:\\n    - Dark blue for **Lower 48**\\n    - Light blue for **Canada**\\n    - Green for **Alaska**\\n    - Gray for **EMENA**\\n    - Purple for **Asia Pacific**\\n- **Trends**: The trend illustrates that a significant volume of resources is accessible at a cost below $40/BBL, with a visually dominant section representing the Lower 48 region.\\n\\n### Right Section: Cumulative Production Base Treemap\\n- **Type of Graphic**: A treemap showing \"10-Year Plan Cumulative Production (BBOE)\" for diverse production bases.\\n- **Structure**: The treemap is divided into various rectangles that correspond to different production regions and areas:\\n  - The largest rectangle is for **Lower 48**, indicating its substantial contribution to cumulative production.\\n  - Other areas include:\\n    - **Alaska**: Dotted with subdivisions labeled **GKA**, **GWA**, **GPA**, and **WNS**.\\n    - **EMENA**: Includes regions like **Norway**, **Qatar**, and **Libya**.\\n    - **Asia Pacific**: Represented by areas like **APLNG**, **Malaysia**, and **China**.\\n    - **Canada**: Marked with **Montney** and **Surmont**.\\n- **Insights**: \\n  - The size of each rectangle represents the cumulative production capacity from each region, with Lower 48 vastly overshadowing other areas, depicting its crucial role in ConocoPhillips\\' strategy.\\n  - The chart emphasizes the diversity of the company’s production base across different geographical locations.\\n\\n### Summary\\nOverall, the image effectively communicates ConocoPhillips’ strategic portfolio management by illustrating both cost efficiency in resource extraction and the breadth of their production capabilities, reflecting a solid approach toward achieving long-term value creation and sustainability objectives.',\n",
       " 'The image presents a bar chart titled \"U.S. LNG Reduces Carbon Intensity of Electricity\" and illustrates the carbon dioxide equivalent emissions (kg CO₂e per MWh) associated with energy generation from two sources: domestic coal in Germany and U.S. Permian LNG.\\n\\n### Chart Type:\\n- **Bar Chart:** The chart features two vertical bars for comparison purposes.\\n\\n### Key Visual Details:\\n- **Y-Axis (Vertical):** Labeled in kilograms CO₂e per MWh, ranges from 0 to 1,200 kg.\\n- **X-Axis (Horizontal):** Contains two categories:\\n  - \"Germany, Domestic Coal\"\\n  - \"Germany, U.S. Permian LNG\"\\n\\n### Data Values:\\n- **Germany, Domestic Coal:** The bar reaches just below the 1,200 kg CO₂e mark, indicating high emissions.\\n- **Germany, U.S. Permian LNG:** The bar is significantly lower, positioned around the 800 kg CO₂e mark.\\n\\n### Comparative Insights:\\n- The chart visually highlights that emissions from U.S. Permian LNG are substantially lower than those from domestic coal in Germany, making it evident that switching to LNG is advantageous for reducing carbon intensity in electricity generation.\\n\\n### Additional Information:\\n- A blue arrow points from the first bar to the second, emphasizing the reduction in carbon emissions.\\n- There is a text box nearby, stating that there is an “>40% Reduction in lifecycle GHG emissions when switching from domestic coal to imported LNG,” reinforcing the message conveyed by the bar comparison.\\n\\n### Conclusion:\\nOverall, the image effectively communicates the environmental benefits of using U.S. LNG over domestic coal in terms of carbon emissions, aligning with the company\\'s stated commitment to sustainability and emissions reduction goals.',\n",
       " \"The image presents a map highlighting ConocoPhillips' global operations and activities as of December 31, 2023. Here’s a detailed description of its components:\\n\\n### Map Overview\\n- **Geographical Representation**: The map displays a world view with specific countries marked to indicate ConocoPhillips' areas of exploration and production, emphasizing its diverse asset portfolio.\\n- **Locations Marked**: \\n  - **Exploration Areas**: Indicated by a solid circle.\\n  - **Production Areas**: Indicated by an outlined circle.\\n  - **Exploration and Production Areas**: Marked with a diamond shape.\\n  - The **headquarters in Houston** is highlighted with a blue star.\\n\\n### Key Locations\\n- **Countries Indicated**:\\n  - **North America**: Alaska, Canada, and areas in the Lower 48 states, with Houston singled out as the headquarters.\\n  - **Latin America**: Colombia.\\n  - **Europe**: Norway and the United Kingdom.\\n  - **Africa**: Libya.\\n  - **Asia**: China, Japan, Cambodia, Malaysia, Qatar, Singapore, and Australia.\\n\\n### Additional Information Panel\\n- Located at the bottom, there are detailed statistics presented in a structured format:\\n  - **Global Operations and Activities**: 13 countries listed as active regions as of December 31, 2023.\\n  - **Employees**: Approximately 9,900 employees, confirming the workforce size near the year-end.\\n  - **Production**: Listed as 1,826 MBoeD (thousand barrels of oil equivalent per day) for the year 2023, demonstrating the company's output capacity.\\n  - **Proved Reserves**: Noted as 6.8 billion BOE (barrels of oil equivalent), showcasing the company's substantial reserves.\\n\\n### Summary\\nThe image conveys ConocoPhillips' extensive operational footprint across multiple continents and highlights its commitment to resource exploration and production. The graphical representation, paired with specific statistics, emphasizes the company's scale and operational focus in the energy sector, reflecting its strategy for long-term value creation and sustainability.\",\n",
       " 'The image presents a detailed breakdown of executive compensation for ConocoPhillips in a clear and structured format. It is divided into sections that illustrate how compensation is aligned with performance, specifically targeting both the CEO and other Named Executive Officers (NEOs).\\n\\n### Key Description:\\n\\n1. **Heading**: The top of the image prominently states, \"Majority of Executive Compensation is Performance Based,\" indicating the focus on aligning compensation with the company\\'s strategic priorities.\\n\\n2. **Compensation Structure**: \\n   - A formula is presented to illustrate the components of executive pay: **Salary + VCIP + Executive Restricted Stock Units + Performance Shares = Target Value**. This visually conveys that the total compensation is derived from both fixed and performance-based elements.\\n   - The terms **Salary**, **VCIP** (Variable Cash Incentive Plan), **Executive Restricted Stock Units**, and **Performance Shares** are clearly labeled, helping the reader understand each component\\'s role in the overall compensation package.\\n\\n3. **Charts**: \\n   - **Bar Charts**: Two bar charts represent the 2023 target compensation for the CEO and for other NEOs. \\n     - **For the CEO**:\\n       - **Salary**: 9%\\n       - **VCIP**: 14%\\n       - **Restricted Stock Units**: 27%\\n       - **Performance Shares**: 50%\\n       - A significant highlight is that **91%** of the CEO\\'s target pay is performance-based.\\n     - **For Other NEOs**:\\n       - **Salary**: 19%\\n       - **VCIP**: 18%\\n       - **Restricted Stock Units**: 21%\\n       - **Performance Shares**: 42%\\n       - A notable metric is that **81%** of the other NEOs’ target pay is performance-based.\\n   - The charts utilize varying shades of gray and blue to differentiate components of compensation, providing a clear visual comparison.\\n\\n4. **Insights**: \\n   - The charts reveal a reliance on stock-based compensation, particularly long-term incentives, for both the CEO and other NEOs.\\n   - The CEO has a higher percentage of performance shares compared to other NEOs, suggesting a stronger emphasis on performance-based outcomes at the executive level.\\n\\n5. **Components of Executive Compensation**: At the bottom, a label reads “Components of Executive Compensation,” reiterating that the information pertains to the structure of overall pay.\\n\\nOverall, the image effectively communicates ConocoPhillips\\' commitment to performance-based compensation and aligns with the company\\'s strategic focus on long-term value creation for its stockholders. The visual elements enhance understanding by clearly categorizing and comparing the components of compensation.',\n",
       " 'The image is a line and stacked area chart titled \"Strong LNG Growth Outlook.\" It visually represents the projected growth of liquefied natural gas (LNG) supply over time, specifically from 2022 to 2050.\\n\\n### Chart Description:\\n\\n1. **Axes**:\\n   - **Horizontal Axis (X-axis)**: This axis represents the years, ranging from 2022 to 2050.\\n   - **Vertical Axis (Y-axis)**: This axis indicates the metric tons per annum (MTPA) capacity, starting from 0 MTPA up to 750 MTPA.\\n\\n2. **Data Presentation**:\\n   - The chart displays two primary components: a **stacked area** representing the total LNG capacity and a **line graph** indicating the cumulative total.\\n   - The bottom section of the stacked area is labeled \"Operational,\" showing the amount of LNG capacity already operational.\\n   - The upper section, labeled \"Under Construction,\" represents capacities that are currently in development.\\n\\n3. **Key Trends**:\\n   - Starting in 2022, the operational capacity gradually increases, indicating a rise in LNG facilities that are already functioning.\\n   - The \"Under Construction\" segment increases over time, suggesting a significant investment and ongoing projects aimed at enhancing LNG supply.\\n   - The total LNG capacity rises steeply initially, approaching around 750 MTPA towards 2050.\\n   - A horizontal black line at approximately the 500 MTPA mark indicates future projections that suggest a continuous gap, labeled as \" >300 MTPA Supply Gap by 2050,\" which points to an anticipated shortfall in supply compared to demand.\\n\\n### Key Takeaways:\\n\\n- **Projected Growth**: There is a strong projected growth in LNG supply capacity from both operational and under-construction projects.\\n- **Future Supply Gap**: The chart highlights a potential gap in supply by 2050, with more than 300 MTPA expected to be needed but potentially lacking.\\n- **Strategic Importance**: The data reinforces the importance of continued investment in LNG infrastructure to meet future energy demands and the company\\'s commitment to addressing this challenge.\\n\\nThis visualization supports the themes outlined in the ConocoPhillips documents regarding sustainable growth and strategic planning for LNG supply to align with future energy needs.',\n",
       " 'The image presents a bar chart titled \"Material Low Cost of Supply Resource Base: Leveraging Existing Infrastructure,\" depicting the WTI cost of supply per barrel ($/BBL) against various resources measured in billions of barrel oil equivalents (BBOE). \\n\\n### Chart Type:\\n- **Type:** Bar Chart\\n\\n### Key Elements:\\n- **Y-Axis:** Represents the WTI Cost of Supply in dollars per barrel, ranging from $0 to $50.\\n- **X-Axis:** Represents the Resource in billions of barrel oil equivalents (BBOE), with values ranging from 0 to 9.\\n- **Average Cost of Supply Label:** An approximate average cost of supply highlighted at **~$30/BBL**.\\n\\n### Bars / Colors:\\n- The chart includes segmented bars for five different resource categories, each shown in distinct colors:\\n  - **LNG (Liquid Natural Gas)**: Blue\\n  - **Surmont**: Light Blue\\n  - **Montney**: Green\\n  - **Conventional International**: Grey\\n  - **Alaska**: Purple\\n\\n### Observations:\\n- The chart indicates a **steady increase** in the WTI cost of supply as the resource volume (BBOE) increases.\\n- At a resource value of **0 BBOE**, the costs start near **$0** and gradually rise, reaching around **$30** at 3 BBOE.\\n- Notably, as the resource volume grows from **3 to 9 BBOE**, there is a consistent upward trend in costs, with some resources (like LNG and Surmont) showing relatively higher costs compared to others.\\n- The **Alaska** and **Conventional International** resources appear to have the highest costs per barrel at the higher end of the scale, while **Montney** remains relatively lower, showcasing potential cost efficiency in that area.\\n\\n### Insights:\\n- The cost data indicates that the overall average cost of supply is around **$30/BBL**, suggesting that efficient management and leveraging existing infrastructure can keep costs competitive.\\n- This chart underlines the company\\'s focus on maintaining a **disciplined, returns-focused strategy**, highlighting how resource management impacts financial performance and long-term value creation for stakeholders. \\n\\nThe visualization effectively communicates the relationships between various resources, their costs, and the potential for strategic investment in lower-cost segments.',\n",
       " \"The image presents a comprehensive overview of ConocoPhillips' 10-Year Plan, showcasing key financial metrics with a focus on capital allocation, production levels, and free cash flow (FCF). The layout effectively communicates these elements using both bar charts and text annotations.\\n\\n### Description of Components:\\n\\n1. **Capital ($B)**\\n   - A **vertical bar chart** on the left displays the capital expenditures.\\n   - The **2023 capital** is represented by a blue bar, slightly below the $12 billion mark at approximately **$11 billion**.\\n   - Average capital for **2024-2028** and **2029-2032** is indicated, with both average projections represented by similarly styled blue bars of equal height, suggesting a stable expected spending.\\n   \\n2. **Production (MBOED)**\\n   - Located below the capital chart, another **vertical bar chart** illustrates the production estimates measured in **thousand barrels of oil equivalent per day (MBOED)**.\\n   - The **2023 production** is presented as a lighter blue bar, while the averages for **2024-2028** and **2029-2032** appear as slightly darker blue bars, with the average production growing steadily.\\n   - The average annual growth rate of approximately **4-5%** over the next ten years is highlighted, indicating a positive trend.\\n\\n3. **Free Cash Flow (FCF)**\\n   - On the right side of the image, a separate **vertical bar chart** outlines potential free cash flow under different WTI prices.\\n   - The first bar indicates **2023 estimated FCF**, below the $10 billion mark.\\n   - The midpoint of planning price at **$60/BBL WTI** and upside sensitivity at **$80/BBL WTI** are clearly labeled on respective bars, with the latter bar significantly higher.\\n   - A statement asserts that the company expects **over $115 billion in total FCF** over the next decade at the $60 per barrel price, with a breakeven analysis suggesting **~$35/BBL WTI** for FCF sustainability over the same period.\\n\\n### Key Insights:\\n- Overall, the charts depict a disciplined financial strategy with a clear focus on increasing production and capital allocation while driving significant FCF.\\n- The graphs illustrate a commitment to long-term value creation for stockholders, particularly through efficient capital management and increased production capabilities.\\n- The expected growth rates and capital discipline underscore ConocoPhillips’ strategic alignment with broader economic conditions and sustainability goals. \\n\\nThis structured presentation of data encapsulates the company’s forward-looking strategy, emphasizing their targeted capital investments and production enhancements to maximize returns and support sustainability initiatives.\",\n",
       " \"The image consists of two related line graphs that illustrate key trends regarding the U.S. electric power sector's transition from coal to natural gas and its impact on CO2 emissions. \\n\\n### Left Graph: % Share of Electricity Generation\\n- **Type of Chart**: Line graph.\\n- **X-Axis**: Years from 2001 to 2021.\\n- **Y-Axis**: Percentage share of electricity generation, ranging from 0% to 60%.\\n- **Data Trends**:\\n  - **Coal**: Starts at 51% in 2001, showing a steady decline over the years, reaching about 20% by 2021.\\n  - **Natural Gas**: Begins at 17% in 2001, with a noticeable upward trend that increases to approximately 40% by 2021.\\n  \\n### Right Graph: CO2 Emissions\\n- **Type of Chart**: Line graph.\\n- **X-Axis**: Years from 2001 to 2021.\\n- **Y-Axis**: CO2 emissions measured in million metric tons, ranging from 1,000 to 2,500 metric tons.\\n- **Data Trends**:\\n  - Displays an overall downward trend in total CO2 emissions from approximately 2,500 million metric tons in 2001 to about 1,750 million metric tons in 2021.\\n  - A label on the graph indicates a greater than 30% reduction in CO2 emissions over this period.\\n\\n### Key Insights:\\n- The significant reduction in CO2 emissions aligns strongly with the decrease in coal's share of electricity generation and the rise of natural gas as a cleaner energy source.\\n- Overall, the data suggests a clear shift in the U.S. energy landscape, moving toward lower carbon emissions due to the transition from traditional coal power to natural gas, underscoring the broader sustainability goals highlighted in the ConocoPhillips documents. \\n\\nIn conclusion, the graphs effectively communicate the intermediary steps toward a more sustainable energy sector and reflect the company's commitment to reducing emissions and fostering a sustained energy transition.\",\n",
       " 'The image depicts a line graph titled \"Global Coal Consumption Has Yet to Definitively Peak.\" The x-axis represents the years, ranging from 2000 to 2020, while the y-axis quantifies coal consumption in units, likely measured in millions of tons or a similar metric, ranging from 3,000 to 9,000.\\n\\n### Description of the Graph:\\n\\n- **Type of Chart**: The graph is a line chart, displaying trends over a period.\\n  \\n- **Key Trends**: \\n  - The line starts at around 5,000 on the y-axis in the year 2000.\\n  - It exhibits a gradual increase during the early years until approximately 2010, where it peaks at around 7,500.\\n  - Post-2010, the consumption appears to plateau, showing minor fluctuations without a definitive downward or upward trend until 2020.\\n\\n- **Labels and Numerical Values**: \\n  - The y-axis is labeled from 3,000 to 9,000 in increments of 1,000.\\n  - Notable years such as 2000, 2010, and 2020 are marked along the x-axis.\\n\\n### Insights and Comparisons:\\n- The graph suggests a sustained growth in global coal consumption up until 2010, signaling an increase in reliance on coal during that period.\\n- The plateau observed after 2010 indicates a possible stabilization of coal consumption levels, suggesting that while there may not yet be a peak, the rate of increase has diminished significantly.\\n- The title hints at ongoing discussions about sustainability and the future of coal consumption in the energy transition narrative implied in the broader context of the documents, aligning with ConocoPhillips\\' emphasis on sustainability goals and long-term value creation for stockholders. \\n\\nOverall, this graph visually reinforces the message that while coal consumption has increased steadily, it has not yet reached a peak, aligning with the company\\'s strategic focus on energy transition and emissions reduction.',\n",
       " 'The image titled \"Pathway to Net-Zero\" presents a graphical representation of ConocoPhillips\\' emissions intensity reduction targets over time, specifically focusing on greenhouse gas (GHG) emissions measured in kilograms of CO2 equivalent per barrel of oil equivalent (kg CO2e/BOE).\\n\\n### Description of the Chart\\n\\n#### Type of Chart\\nThe chart consists of a **combination of bar and line graphs**. \\n\\n- **Vertical bars** (in blue) represent **Gross Operated emissions intensity** for the years 2016, 2022, and projections towards 2050.\\n- **Gray bars** show the emissions intensity associated with **Net Equity**.\\n- Overlaid on the bars, there are **lines and shaded areas** representing target reductions and future projections.\\n\\n#### Key Trends and Numerical Values\\n- The vertical axis (y-axis) displays **emissions intensity** values ranging from **0 to 50 kg CO2e/BOE**, with increments likely set at intervals of 10.\\n- The x-axis shows the timeline from **2016 to 2050**, marking specific target years of interest: **2025, 2030, and 2050**.\\n  \\nThe chart shows a clear downward trend for both emissions measures over the period:\\n- In **2016**, emissions intensity is significantly higher, around 40-50 kg CO2e/BOE.\\n- By **2022E** (estimated values), there is a noticeable decrease, particularly in the **Gross Operated** emissions (indicated by the blue bars), suggesting a general improvement in emissions management.\\n- Projections for **2030** indicate a target of **50%-60% reduction**, with reductions expected to continue as they move towards **long-term (2050) net-zero ambitions**.\\n\\n#### Comparisons and Significant Insights\\n- **50% Reduction** and **60% Reduction** lines denote targets on the graph, suggesting ambitious goals set by ConocoPhillips. The shaded areas between these targets represent the range of anticipated reductions.\\n- The **new targets introduced for 2030** signal an intent to reduce GHG intensity to between **40-50%**.\\n- The company aims for **near-zero methane intensity** by achieving a target of less than **1.5 kg CO2e/BOE**.\\n\\n### Key Takeaways\\n- There is a structured approach towards reducing emissions intensity, emphasizing the company\\'s commitment to sustainability.\\n- Clear milestones have been outlined: \\n  - **Near-term (2025)**: Focus on zero routine flaring.\\n  - **Medium-term (2030)**: Significant GHG intensity reductions.\\n  - **Long-term (2050)**: Target of achieving net-zero emissions.\\n\\nThis chart effectively communicates ConocoPhillips\\' strategic direction regarding sustainability and emissions reductions, aligning with its broader goals of creating long-term value for shareholders and stakeholders.',\n",
       " 'The image presents a timeline and summary of ConocoPhillips\\' activities and key performance indicators from 2016 to 2022, focusing on its active portfolio management. Here\\'s a detailed description of the content:\\n\\n### Timeline Overview:\\n- The timeline spans from **2016 to 2022**, highlighting significant milestones and strategic decisions made by the company.\\n- Each year from **2016 to 2022** is marked with key data regarding production, resources, costs, and emissions intensity, as well as specific acquisitions or exits in those years.\\n\\n### Key Data Points (by Year):\\n1. **2016:**\\n   - **Production:** 1.6 MMBOED (Million Barrels of Oil Equivalent per Day)\\n   - **Resource (<$40/BBL WTI):** Approximately 10 BBOE (Billion Barrels of Oil Equivalent)\\n   - **Average Cost of Supply:** Below $40/BBL WTI\\n   - **Resource Life:** Greater than 18 years\\n   - **Emissions Intensity:** Approximately 39 kg CO2e/BOE\\n\\n2. **2017:**\\n   - Includes the \"San Juan Exit\" and \"Canada Cenovus Transaction.\"\\n\\n3. **2018:**\\n   - Mention of \"WNS and GKA Working Interest Consolidations.\"\\n\\n4. **2019:**\\n   - Notable exits in the U.K. and Australia with references to the \"Niobrara and Australia-West Exits.\"\\n\\n5. **2020:**\\n   - Significant acquisition of \"Montney Acreage.\"\\n\\n6. **2021:**\\n   - Mention of \"Indonesia Exit.\"\\n\\n7. **2022:**\\n   - **Production:** Increased to 1.7 MMBOED\\n   - **Resource (<$40/BBL WTI):** Approximately 20 BBOE\\n   - **Average Cost of Supply:** Reduced to $32/BBL WTI\\n   - **Resource Life:** More than 30 years\\n   - **Emissions Intensity:** Decreased to approximately 22 kg CO2e/BOE\\n   - Notable acquisitions of \"Concho and Shell Permian\" and \"APLNG.\"\\n\\n### Bottom Section:\\n- The lower part of the image emphasizes the \"Cost of Supply Framework Drives Disciplined Transactions,\" detailing that around **$25 billion** has been spent on both acquisitions and divestitures since 2016. This highlights the company\\'s strategic focus on maintaining financial discipline while managing its portfolio.\\n\\n### Summary Insights:\\n- Overall, the timeline illustrates a positive trend in production and resource management over the six years. \\n- There is a clear focus on reducing emissions intensity and costs, indicating a strategic pivot towards sustainability while enhancing operational effectiveness.\\n- The systematic approach to acquisitions and divestitures reflects a rigorous evaluation strategy aimed at long-term value creation for stockholders.\\n\\nThis structured presentation emphasizes both operational milestones and the overall strategic direction of ConocoPhillips, aligning with their stated goals in sustainability and financial discipline.',\n",
       " 'The image titled \"Attractive Global LNG Portfolio\" presents a visually detailed map highlighting key LNG (Liquefied Natural Gas) supply and demand markets projected for 2035. Below is a structured description of the image elements:\\n\\n### 1. **Map Overview**\\n- The illustration displays various global regions, particularly focusing on Asia, Europe, and North America.\\n- Key locations are marked with circles, differentiated by color: **green circles** denote supply quantities, while **blue circles** indicate demand figures.\\n\\n### 2. **Key Data Points**\\n- **Supply and Demand Values (Metric Tonnes per Annum - MTPA):**\\n  - **Port Arthur LNG** is prominently highlighted with a demand of **212 MTPA** (shown in a blue circle).\\n  - **Qatar** exhibits a demand of **141 MTPA** (blue circle).\\n  - **European Re-Gas** shows a demand of **128 MTPA** (blue circle).\\n  - **Australia Pacific LNG** indicates a supply of **77 MTPA** (green circle).\\n  - **West Coast Optionality** is mentioned but lacks a specific numerical value, positioned in proximity to these locations.\\n  - **Asia-Pacific** region shows a substantial supply from North America at **437 MTPA** (the largest green circle on the map).\\n  - There is an additional figure of **64 MTPA** linked to both supply and demand, likely representing a different region, but specifics are not detailed.\\n\\n### 3. **Significant Insights**\\n- The map emphasizes the relationship between **supply centers** and **demand markets**, illustrating that North America is set to strongly influence LNG supply growth, particularly highlighted by the substantial **437 MTPA** supply in the Asia-Pacific region.\\n- The focus on **Qatar** and **Australia** suggests these nations are critical players in providing reliable LNG, ensuring demand centers in Asia and Europe can be met efficiently.\\n- Trends indicate significant supply from the **Port Arthur LNG** facility, positioning it as a major supply hub.\\n\\n### 4. **Accompanying Text**\\n- The image features a concise text section reinforcing key takeaways:\\n  - **Continued significance** of Asia and Europe as demand centers.\\n  - **Reliability** of Qatar and Australia as supply sources.\\n  - The assertion that **North America** leads in LNG supply growth, which aligns with the illustrated data.\\n\\nThis visualization effectively communicates ConocoPhillips\\' strategic positioning within the LNG market, highlighting global supply and demand dynamics leading into 2035.',\n",
       " 'The image appears to contain information regarding a project from ConocoPhillips named \"Willow,\" which is focused on delivering competitive returns over the coming decade. Here\\'s a detailed description of the components presented in the image.\\n\\n### 1. **Main Header**\\n- **Text:** \"Willow: Delivering Competitive Returns Into the Next Decade\"\\n- **Position:** Centered at the top of the image, setting the context for the content below.\\n\\n### 2. **Left Section: Capex and Expenditure Breakdown**\\n- **Heading:** \"Capex of $1-1.5B per Year from 2024-2028\"\\n- **Key Visual:** A circular diagram illustrates the allocation of a total capital expenditure of **$7-7.5B** to reach \"First Oil.\"\\n  - **Segments:**\\n    - **Drill sites and drilling:** Represented in light green.\\n    - **Central processing facility:** Shown in blue.\\n    - **Infrastructure, roads, pipelines, power, and pads:** Displayed in dark blue.\\n- **Key Insight:** The circular graphic effectively breaks down the components necessary for achieving the project milestones under the capital expenditure plan.\\n\\n### 3. **Timeline of Key Construction Milestones**\\n- **Heading:** \"Key Construction Milestones\"\\n- **Timeline:** A horizontal row that lists milestones from **2023 to 2029.**\\n  - **2023:** Winter road and pipeline construction.\\n  - **2024:** Operation center fabrication and delivery; Central processing facility procurement.\\n  - **2025:** Central processing facility fabrication and delivery; Complete tie-ins to new drill sites and existing infrastructure.\\n  - **2026:** Commence drilling program.\\n  - **2028:** First Oil anticipated.\\n\\n### 4. **Right Section: Volume Ramp and Free Cash Flow (FCF)**\\n- **Heading:** \"Volume Ramp and Strong Margins Drive FCF\"\\n- **Key Insights:**\\n  - Discusses the importance of a pre-drilling strategy that maximizes facility capacity at startup.\\n  - Highlights the production of premium-quality light crude compared to the current Alaska average.\\n  - Emphasizes leveraging existing pipeline infrastructure for efficiency.\\n\\n### 5. **Production Bar Chart**\\n- **Chart Type:** Bar chart depicting production metrics.\\n- **Axes:**\\n  - **Vertical Axis:** Production measured in **MBOED (Thousand Barrels of Oil Equivalent per Day)**.\\n  - **Horizontal Axis:** Time periods labelled as **2023E, 2024-2028 Average, and 2029-2032 Average.**\\n- **Data Representation:**\\n  - **Colors:**\\n    - The blue bars indicate \"Legacy Alaska\" production.\\n    - The green section represents \"Willow\" production.\\n  - **Significant Observations:**\\n    - The chart highlights that **Willow is expected to contribute 100% oil production** starting from the 2029-2032 average.\\n    - The production levels show an upward trend compared to Legacy Alaska.\\n\\n### Summary:\\nOverall, the image clearly communicates ConocoPhillips\\' strategic approach and key milestones for the Willow project, highlighting financial projections, construction timelines, and production expectations. It aligns with the company’s broader themes of financial discipline and a focus on sustainability as outlined in related documentation.',\n",
       " \"The image presents two graphs related to ConocoPhillips' LNG (Liquefied Natural Gas) strategy and capital spending, likely derived from the company's Proxy Statement and Analyst Meeting Presentation.\\n\\n### Top Graph: ConocoPhillips Global Net LNG Exposure (MTPA)\\n\\n- **Type**: The upper part of the image is a **stacked area chart** illustrating ConocoPhillips' global net LNG exposure over time.\\n  \\n- **Axes**:\\n  - **Horizontal Axis**: Represents the time frame from 2023 to 2032.\\n  - **Vertical Axis**: Indicates the net LNG exposure in metric tons per annum (MTPA), ranging from 0 to 15.\\n\\n- **Key Trends**:\\n  - The graph shows a gradual increase in LNG exposure from 2023, starting below 5 MTPA, and peaking around 15 MTPA by 2032.\\n  - The exposure is divided into several colored segments, which likely correspond to different projects or segments of ConocoPhillips’ LNG portfolio:\\n    - **AP LNG**: Represented by a dark blue section at the bottom of the stack, showing a significant share of the total exposure.\\n    - **QG3**: In a lighter blue, this segment contributes a noticeable portion as well.\\n    - **NFE/NFS**: A middle blue shade that shows moderate growth over the timeline.\\n    - **PA LNG**: The topmost grey area, indicating higher additional exposure later in the timeline.\\n\\n### Bottom Graph: ConocoPhillips Net LNG Capital Spend ($B)\\n\\n- **Type**: This graph is a **bar chart** that illustrates the net LNG capital spending.\\n\\n- **Axes**:\\n  - **Horizontal Axis**: Indicates different periods—2023E (estimated), 2024-2028 Average, and 2029-2032 Average.\\n  - **Vertical Axis**: Represents capital spend in billions of dollars ($B), ranging from 0 to 2.\\n\\n- **Key Insights**:\\n  - The estimated capital expenditure for 2023 is significantly higher, nearly reaching 2 B.\\n  - For the averages from 2024-2028, the spending decreases considerably, averaging well below 1 B.\\n  - The chart mentions a cumulative capital expenditure of approximately $3.7 billion, which likely encapsulates all the periods shown.\\n  \\n### Summary\\nThe two graphs together highlight ConocoPhillips' strategic focus on expanding its LNG exposure while demonstrating a disciplined approach to capital spending. The increasing LNG exposure depicts the company's growth ambitions, whereas the decreasing capital allocation in later averages suggests a more measured investment strategy as projects mature and stabilizing cash flows potentially emerge. This aligns with the company’s goals of financial discipline and long-term value creation for stockholders.\",\n",
       " 'The image presents a comprehensive overview of ConocoPhillips\\' operations in the Delaware Basin, emphasizing its expansive inventory and strong performance track record.\\n\\n### Breakdown of the Image\\n\\n#### Map and Inventory Information\\n- **Left Side:** \\n  - A map outlines the Delaware Basin, primarily covering a significant area in western Texas and extending into southeastern New Mexico.\\n  - The map uses a color gradient from light yellow to dark red to indicate the \"Cost of Supply,\" with darker colors representing higher costs.\\n  - A pie chart depicts the **Total 10-Year Operated Permian Inventory**, which is split into two sections: 65% is allocated to the **Delaware Basin** (shown in blue), and the remaining 35% to the **Midland Basin** (shown in gray). \\n\\n#### Graphs and Performance Metrics\\n- **Right Side:** \\n  - **12-Month Cumulative Production (BOE/FT):**\\n    - A line graph showcases cumulative production over twelve months from 2019 to 2022. \\n    - There are four lines representing each year:\\n      - 2019 (lowest), 2020, 2021, and 2022 (highest).\\n    - The graph indicates a consistent upward trend, with a notable **~30% improvement** in performance from 2019 to 2022, highlighting efficiency gains over time.\\n\\n- **Delaware Basin Well Capex/EUR ($/BOE):**\\n  - A bar chart that contrasts the Capex (capital expenditure) with the Estimated Ultimate Recovery (EUR) for wells in the Delaware Basin. \\n  - The bars show an increasing trend, particularly in the last year represented, suggesting a focus on enhancing the economic efficiency of their capital expenditures.\\n\\n#### Additional Insights\\n- The bottom of the image states **\"High Single-Digit Production Growth,\"** indicating a modest growth expectation in production levels, reinforcing the narrative of a disciplined, growth-oriented strategy.\\n\\n### Summary\\nOverall, the image conveys key strategic insights into ConocoPhillips\\' operational focus in the Delaware Basin, underscoring the company\\'s significant land holdings, improved production performance, and positive trends in capital efficiency. The combination of geographic and financial data highlights the firm’s commitment to sustainable value creation and effective resource management.',\n",
       " 'The image consists of a vertical list that outlines the core values of ConocoPhillips, represented by the acronym \"SPIRIT.\" Each letter corresponds to a specific value, accompanied by a brief description of the associated principle.\\n\\n### Detailed Description:\\n\\n1. **Background and Layout**:\\n   - The background is a light gray, providing a clean and modern aesthetic. \\n   - Text is formatted in a clear, sans-serif font, predominantly in dark blue for headings and black for descriptive text.\\n\\n2. **Content Breakdown**:\\n   - Each value begins with a bolded letter in blue, creating a distinct separation between them.\\n\\n3. **Values**:\\n   - **S for Safety**: Emphasizes the importance of completing tasks safely, stating that a safe company is a successful one.\\n   - **P for People**: Highlights respect among employees and the value of diverse voices and opinions.\\n   - **I for Integrity**: Focuses on ethical behavior and trust in relationships with stakeholders.\\n   - **R for Responsibility**: Addresses accountability for actions and a commitment to sustainability and shared value.\\n   - **I for Innovation**: Encourages anticipating change and embracing learning and creativity to meet industry demands.\\n   - **T for Teamwork**: Promotes a collaborative attitude that inspires performance and celebrates collective success.\\n\\n### Key Insights:\\nThe values collectively emphasize the company\\'s commitment to safety, ethical practices, sustainability, creativity, and collaboration, reflecting a culture aimed at achieving long-term success and value creation for its stakeholders. This aligns with their overall strategy and goals, such as progressing toward a net-zero energy transition and enhancing shareholder engagement.',\n",
       " 'The image consists of two graphs titled \"Compensation Actually Paid vs. Net Income\" and \"Compensation Actually Paid vs. 1-Year Relative Adjusted ROCE\". Here’s a detailed description of each chart:\\n\\n### Compensation Actually Paid vs. Net Income\\n1. **Type of Chart**: This is a bar and line chart.\\n2. **Axes**:\\n   - **X-Axis**: Years ranging from 2020 to 2023.\\n   - **Y-Axis**: Represents monetary values in millions (up to $80 million) and an additional scale on the right indicating Net Income in billions (up to $20 billion).\\n3. **Data Representation**:\\n   - **Bars**:\\n     - **Blue Bars**: Represent the CEO compensation cap (CEO CAP) for each year.\\n     - **Gray Bars**: Indicate the average compensation of non-CEO Named Executive Officers (NEOs) for each year.\\n   - **Line**: A blue line indicates the net income for each corresponding year.\\n4. **Key Trends**:\\n   - The CEO CAP shows a steady increase from around $30 million in 2020 to approximately $75 million in 2021, then dips slightly in 2022 before staying consistent into 2023.\\n   - Non-CEO NEOs average compensation remained significantly lower, with values around $20 million in 2021 and rising slightly thereafter.\\n   - Net income started at around $5 billion in 2020, rose to about $15 billion in 2021, remained similar in 2022, and appears to fall to a negative in 2023.\\n\\n### Compensation Actually Paid vs. 1-Year Relative Adjusted ROCE\\n1. **Type of Chart**: This is also a bar and line chart.\\n2. **Axes**:\\n   - **X-Axis**: Years from 2020 to 2023.\\n   - **Y-Axis**: The left y-axis represents compensation in millions (up to $80 million), while the right y-axis indicates Percentile Rank (up to 70%).\\n3. **Data Representation**:\\n   - **Bars**:\\n     - **Blue Bar (CEO CAP)**: Represents the CEO compensation cap.\\n     - **Gray Bar (Non-CEO NEOs Avg CAP)**: Shows the average compensation of non-CEO NEOs.\\n   - **Line**: A blue line reflects the 1-Year Relative Adjusted Return on Capital Employed (ROCE).\\n4. **Key Trends**:\\n   - Similar to the first chart, the CEO CAP shows a consistent increase, with slight variations for non-CEO NEOs.\\n   - The line indicating 1-Year Relative Adjusted ROCE demonstrates fluctuations, peaking in 2021 and showing a decline toward 2023, indicating decreasing performance relative to adjusted capital efficiency over the years.\\n\\n### Key Takeaways\\n- There is a significant disparity between the compensation of the CEO and non-CEO NEOs, with the CEO earning considerably more throughout the observed years.\\n- Net income and the adjusted ROCE trends demonstrate challenges in financial performance, notably in 2023, which could be a point of concern for stockholders.\\n- The emphasis on a balanced approach between executive compensation and company performance metrics aligns with the company\\'s overall strategy toward financial discipline and long-term value creation.',\n",
       " 'The image presents a detailed financial reconciliation related to ConocoPhillips, focusing on non-GAAP financial information, specifically the Return on Capital Employed (ROCE) for the years 2016, 2019, and 2022. Below is a structured description of its key components:\\n\\n### Title and Context\\n- The header reads \"Non-GAAP Reconciliations\" and highlights the use of non-GAAP financial information to enhance the understanding of the company’s financial conditions as compared to those prepared in accordance with GAAP.\\n\\n### Table Structure\\n- The table is divided into two main sections: **Numerator** and **Denominator**, followed by the calculation of **ROCE**.\\n\\n### Numerator\\n- **Net Income (Loss) Attributable to ConocoPhillips**:\\n  - 2016: **(3,615)**\\n  - 2019: **7,189**\\n  - 2022: **18,680**\\n  \\n- **Adjustment to Exclude Special Items**:\\n  - 2016: **307**\\n  - 2019: **(3,153)**\\n  - 2022: **(1,340)**\\n\\n- **Net Income Attributable to Noncontrolling Interests**:\\n  - 2016: **56**\\n  - 2019: **68**\\n  - 2022: **0** \\n\\n- **After-tax Interest Expense**:\\n  - 2016: **796**\\n  - 2019: **637**\\n  - 2022: **641** \\n\\n- **ROCE Earnings**:\\n  - 2016: **(2,456)**\\n  - 2019: **4,741**\\n  - 2022: **17,981**\\n\\n### Denominator\\n- **Average Total Equity**:\\n  - 2016: **37,837**\\n  - 2019: **33,713**\\n  - 2022: **48,801**\\n\\n- **Average Total Debt**:\\n  - 2016: **28,225**\\n  - 2019: **14,930**\\n  - 2022: **17,742**\\n\\n- **Average Capital Employed**:\\n  - 2016: **66,062**\\n  - 2019: **48,643**\\n  - 2022: **66,543**\\n\\n### ROCE Calculation\\n- The final section summarizes the calculated ROCE as a percentage:\\n  - 2016: **-4%**\\n  - 2019: **10%**\\n  - 2022: **27%**\\n\\n### Key Takeaways\\n- There is a significant upward trend in net income from 2016 to 2022, indicating improved financial performance and profitability over time.\\n- The adjustments reflected in special items indicate fluctuations in net income due to varied factors across the years.\\n- The ROCE percentage shows substantial improvement, increasing from -4% in 2016 to 27% in 2022, showcasing a stronger return on employed capital.\\n- The increase in both total equity and capital employed suggests strategies for growth and investment, aligning with the company’s broader financial strategy. \\n\\n### Conclusion\\nOverall, the image effectively communicates the financial reconciliation and performance metrics that are crucial for understanding ConocoPhillips\\' strategic and operational evolution from 2016 to 2022.',\n",
       " 'The image is a bar chart titled \"Capital-Efficient Production Growth\" which highlights the production capacity of ConocoPhillips over several planned years. Here’s a detailed description:\\n\\n### Chart Type:\\n- **Bar Chart**: The chart displays production levels across three time frames: 2023E, the average for 2024-2028, and the average for 2029-2032.\\n\\n### Structure:\\n- **Axes**:\\n  - **Vertical Axis (Y-Axis)**: Labeled as \"Production (MBOED)\" – indicating measurements in thousands of barrels of oil equivalent per day. The scale ranges from 0 to 1,200 MBOED.\\n  - **Horizontal Axis (X-Axis)**: Majors in three categories of time: 2023E, 2024-2028 Average, and 2029-2032 Average.\\n  \\n### Production Breakdown:\\n- Each bar is segmented into different colored sections representing specific production types, distinguished by color:\\n  - **LNG** (Liquefied Natural Gas): Dark Blue\\n  - **Montney**: Green\\n  - **Surmont**: Light Blue\\n  - **Conventional International**: Gray\\n  - **Alaska**: Purple\\n\\n### Key Trends:\\n- The height of each bar indicates an increase in production capacity over the projected years:\\n  - For **2023E**, the total production is around 600 MBOD.\\n  - In the **2024-2028 Average**, it significantly climbs to about 800 MBOD.\\n  - For the **2029-2032 Average**, the bar peaks at approximately 1,000 MBOD.\\n\\n### Insights:\\n- The increasing trend points towards a **4% Compound Annual Growth Rate (CAGR)** with a planned **40% reinvestment rate** expected over the next decade, based on a price assumption of $60 per barrel (WTI).\\n- The increase in production across these years signals a focused strategy on enhancing distribution capacity, emphasizing capital efficiency in production methods.\\n\\n### Additional Note:\\n- At the top of the chart, a **Production Mix** description suggests that:\\n  - Oil accounts for about **60%**.\\n  - NGL (Natural Gas Liquids) **~5%**.\\n  - North American Gas **~5%**.\\n  - International Gas **~30%**.\\n\\nThis chart effectively underscores ConocoPhillips’ commitment to growth and sustainability within the energy sector, focusing on disciplined and strategic production increases.',\n",
       " \"The image presents a table detailing the performance metrics evaluated by the Human Resources and Compensation Committee (HRCC) in relation to the Variable Compensation Incentive Plan (VCIP). This table categorizes different performance areas essential for determining payout decisions. Here is a structured breakdown of its components:\\n\\n### Table Structure and Key Sections\\n\\n1. **Metric Categories**:\\n   - **HSE (Health, Safety, and Environment)**: Weighting of 20%\\n   - **Operations**: Weighting of 30%\\n   - **Financial**: Weighting of 30%\\n   - **Strategic Milestones**: Weighting of 10%\\n   - **Energy Transition Milestones**: Weighting of 10%\\n\\n2. **Performance Metrics**:\\n   - Each metric has defined targets along with its respective weight. Performance results are summarized along with the weighted payout calculations.\\n\\n### Detailed Description of Each Category\\n\\n#### 1. HSE (20% Weight)\\n   - **Total Recordable Rate (TRR)**: Emphasizes safety performance. Achieved 85% result contributing to an overall weighted payout of 17%.\\n   - **Process Safety Events (PSE)**: Focused on maintaining zero serious incidents. Reported to have succeeded, reinforcing safety protocols.\\n\\n#### 2. Operations (30% Weight)\\n   - **Production**: Target of 1,790. Exceeded by 1% with an adjusted production of 1,813 MBoeD, leading to a 125% performance result and 37% payout.\\n   - **Capital**: Total capex budget ($11.2 billion) was met within 1% of the target.\\n   - **Operating and Overhead Costs**: Controlled costs at $8.2 billion, exceeding the target.\\n\\n#### 3. Financial (30% Weight)\\n   - **Relative Adjusted ROCE**: Finished 4th in peer group performance (58th percentile), resulting in a 122% payout (37%).\\n\\n#### 4. Strategic Milestones (10% Weight)\\n   - **LNG Expansion**: Achieved all objectives related to LNG business advancements, contributing to a 200% payout (20% estimated).\\n   - **E&S Risks**: Successfully identified and tracked environmental and safety risks.\\n\\n#### 5. Energy Transition Milestones (10% Weight)\\n   - **Progress Plan for Net-Zero Energy Transition**: Met all objectives, emphasizing continuous improvement in emission trajectory, yielding a 190% payout (19%).\\n   - **Emissions Management**: Achieved annual GHG emissions intensity reduction, aligned with long-term targets.\\n   - **Abatement**: Executed projects within approved budgets.\\n\\n### Summary of Insights\\nThe table provides comprehensive insights into ConocoPhillips’s performance across various metrics related to safety, operational efficiency, financial management, strategic initiatives, and sustainability efforts. Key trends indicate a strong focus on exceeding production targets and advancing sustainability goals, reflected by high performance in emissions reduction and efficient capital management. The diverse performance indicators and clear payouts emphasize the company's disciplined approach to achieving long-term value for stockholders.\",\n",
       " 'The image consists of two primary sections presenting data related to ConocoPhillips\\' operations in the Midland Basin, Texas.\\n\\n### Left Section: Map Overview\\n- **Content**: This section features a color-coded map of the Midland Basin and surrounding areas.\\n- **Geographical Indicators**: The state of Texas is prominently highlighted, with parts of New Mexico visible. A small inset shows the location context.\\n- **Key Features**:\\n  - **Area Indication**: The map indicates a high-margin area labeled with \"High-Margin Play Spanning Over ~251,000 Net Acres.\"\\n  - **Color Gradient**: A color gradient represents the \"Cost of Supply,\" ranging from low (blue) to high (red/yellow). Regions of different costs are visually distinguished, indicating where drilling and extraction may be more or less economically viable.\\n  - **Inventory Representation**: A circular diagram shows that 35% of the total 10-year operated Permian inventory is within the depicted area. Gray is used to denote the Delaware Basin, while blue indicates the Midland Basin.\\n\\n### Right Section: Graphs and Data Analysis\\n- **Content**: This part includes two graphs displaying production and financial metrics related to the Midland Basin.\\n\\n1. **Cumulative Production Graph**:\\n   - **Type**: Line graph.\\n   - **X-Axis**: Represents time in months (1 to 12).\\n   - **Y-Axis**: Measures cumulative production in BOE/ft.\\n   - **Trends**: Two trend lines are visible:\\n     - A blue line indicates production from 2020-2022, showing a gradual upward slope.\\n     - A second line for the year 2019 is also present.\\n   - **Label Insight**: The data highlights an approximate 6% improvement in production performance from 2019 to 2022.\\n\\n2. **Well Capex/EUR Graph**:\\n   - **Type**: Bar graph.\\n   - **Y-Axis**: Represents capital expenditure (CapEx) per estimated ultimate recovery (EUR) in $/BOE.\\n   - **Trends**: Bars indicate a steady trend in costs, with a notable red bar representing ConocoPhillips, suggesting a specific point of emphasis within the data (possibly indicating higher efficiency or lower cost).\\n\\n### Summary\\nThe image effectively conveys the strategic importance of the Midland Basin to ConocoPhillips, illustrating both the geographical landscape of their operational area and key data points on production performance and capital expenditures. The insights provided reinforce the company\\'s disciplined approach to resource management and commitment to financial discipline while focusing on growth potential in the oil and gas sector.',\n",
       " 'The image presents a structured overview of key messages from ConocoPhillips\\' presentations, highlighting their strategic focus and foundational principles. It consists of textual elements, icons, and graphical representations.\\n\\n### Detailed Description:\\n\\n**Left Section: \"What You Heard Today\"**\\n- This section uses bold headings to emphasize the company\\'s commitment to shareholders. \\n- **Textual Points:** \\n  - The first bullet point underscores a dedication to delivering superior returns on capital through various economic cycles.\\n  - The second point articulates the company\\'s portfolio as \"deep, durable, and diverse,\" emphasizing its resilience and breadth.\\n  - The third point addresses their environmental goals, including a 2050 Net-Zero ambition and a 2030 goal for greenhouse gas (GHG) emissions reduction.\\n\\n**Center Section: \"Foundational Principles\"**\\n- This section is designed as a circular model with “Returns” at the center, highlighting four foundational principles that support this core focus:\\n  1. **Balance Sheet Strength** – Illustrated with a document icon and a dollar sign.\\n  2. **Disciplined Investments** – Represented by a line graph icon.\\n  3. **Peer-Leading Distributions** – Signified by a financial distribution symbol.\\n  4. **ESG Excellence** (Environmental, Social, and Governance) – Depicted with a globe and people icon.\\n\\n- **Text at the Bottom:** “Deliver Superior Returns Through Cycles” connects these principles to their overall mission.\\n\\n**Right Section: \"A Compelling Returns Focused 10-Year Plan\"**\\n- Lists several key performance indicators and strategic focuses:\\n  - **\"Peer leading ROCE improving through time\"**: Indicates their focus on Return on Capital Employed.\\n  - **\"Top quartile ordinary dividend growth\"**: Signifies their commitment to increasing dividends.\\n  - **\">90% market cap distributed\"**: Suggests a high level of profitability returned to shareholders.\\n  - **\"~$35/BBL WTI FCF Breakeven\"**: Highlights their breakeven point for free cash flow per barrel of oil.\\n  - **\"~6% CFO CAGR, ~11% FCF CAGR\"**: States the projected compound annual growth rates for cash flow from operations and free cash flow, respectively.\\n  - **\"Unhedged for price upside\"**: Conveys an optimistic outlook on commodity prices without hedging against potential declines.\\n\\n### Key Takeaways:\\n- The image effectively communicates ConocoPhillips\\' strategic focus on returns, portfolio resilience, and sustainability efforts.\\n- The use of icons and structured text enhances clarity and visual appeal, making complex financial concepts more accessible.\\n- The data points suggest a strong commitment to financial discipline and shareholder engagement, aligning with their long-term value creation goals.',\n",
       " 'The image presents a detailed visual and textual representation of the link between compensation and performance at ConocoPhillips, specifically focusing on the metrics for the fiscal year 2023.\\n\\n### Title and Context\\nAt the top, there’s a title \"Linking Pay and Performance,\" which sets the context for the discussion of compensation measures relating to company performance. It implies a connection between executive pay and the company\\'s operating performance indicators.\\n\\n### Performance Measures Table\\nBelow the title, there’s a **tabular list of performance measures**. The table outlines various criteria that ConocoPhillips considers in linking executive compensation to company performance. The key performance measures identified are:\\n- Relative Adjusted ROCE (Return on Capital Employed)\\n- Capital\\n- Operating and Overhead Costs\\n- Production\\n- HSE (Health, Safety, and Environment)\\n- Strategic, Operational, and Energy Transition Milestones\\n\\n### Graph Description\\nThe primary graphic in the image focuses on the **relationship between Compensation Actually Paid (CAP), Total Shareholder Return (TSR), Net Income, and Relative Adjusted ROCE**. \\n\\n**Graph Type**: This is a **combo chart** that includes both vertical bar charts and a line graph. \\n\\n**Key Elements**:\\n- **X-Axis**: Represents the years from 2020 to 2023.\\n- **Y-Axis**: Measured in millions of dollars, with increments marked from $0 to $80 and an additional scale for TSR up to $200.\\n  \\n**Bars**:\\n- **CEO CAP**: Represented by dark blue bars. The values show significant compensation for 2021 and decrease slightly in 2022 and 2023.\\n- **Non-CEO NEOs Avg CAP**: Shown in light gray, illustrating that overall compensation for non-CEO executives is lower compared to the CEO but trends upwards similarly.\\n  \\n**Line**:\\n- **Company TSR**: Represented by a solid line graph, indicating fluctuations corresponding to the years.\\n- **Peer TSR**: Indicated by a dashed line, providing a benchmark comparison against peer performance.\\n\\n### Trends and Insights\\n- The graph indicates that **CEO compensation** was highest in **2021**, with a notable decline in the subsequent years.\\n- There is a **general upward trend** in both CEO and Non-CEO NEO compensation during **2021**, followed by a drop in the next two years.\\n- **Company TSR** appears to increase steadily from **2020 to 2022**, with a decrease in **2023**, paralleling trends in CEO compensation.\\n\\n### Concluding Remarks\\nOverall, this visual emphasizes the company\\'s strategy to align executive compensation with performance metrics, aiming to communicate a coherent narrative around their disciplined approach to financial management and sustainable growth initiatives.',\n",
       " 'The image consists of a combination of a map, a bar graph, and a pie chart, all centered around ConocoPhillips\\' operations in Alaska, specifically highlighting their production strategy and infrastructure.\\n\\n### **Map Description:**\\nIn the top section of the image, a map of Alaska\\'s oil production areas is depicted, primarily focused on the North Slope region. Key features indicated on the map include:\\n\\n- **Central Processing Facility (CPF)**: Marked by filled circles, showing locations where processing occurs.\\n- **ConocoPhillips Interest Acreage**: Represented by shaded areas, indicating regions where the company holds interests.\\n- **Opportunity Reservoir Extent**: This is shown with light-colored boundaries suggesting the extent of oil reservoirs.\\n- **Pipeline System**: Illustrated by a green line which connects various production facilities.\\n- **Future Projects**: Indicated with triangle symbols, signifying areas aimed for potential development.\\n\\nThis geographic representation clearly outlines the strategic locations of ConocoPhillips\\' assets within the National Petroleum Reserve of Alaska.\\n\\n### **Bar Graph Description:**\\nBeneath the map, there is a bar graph titled \"100% of Production Priced at Brent+\" with the following characteristics:\\n\\n- **Y-Axis**: Represents production in MBOD (thousands of barrels of oil per day).\\n- **X-Axis**: Displays three categories for different timeframes: 2023 Estimated (E), 2024-2028 Average, and 2029-2032 Average.\\n- **Bars**: Each bar is solid blue and shows a production estimate that progressively increases:\\n  - **2023 Estimated**: Approximately 175 MBOD.\\n  - **2024-2028 Average**: Anticipated to be around 180 MBOD.\\n  - **2029-2032 Average**: Expected to rise to 195 MBOD.\\n\\nThis trend suggests a consistent upward trajectory in production levels over the coming years.\\n\\n### **Pie Chart Description:**\\nThe lower section features a pie chart that illustrates the company\\'s capital expenditure (Capex) strategy for development, labeled as \"Disciplined Development Plan\":\\n\\n- The total Capex is identified as **~$1B per year**.\\n- **Segments**: \\n  - A significant slice represents **Drilling from existing pads**, which includes locations such as Coyote and Fiord West.\\n  - A smaller slice indicates **New pads filling existing capacity**, suggesting ongoing investments in new sites like Nuna and E News.\\n\\n### **Overall Insights:**\\n- The image collectively underscores ConocoPhillips\\' strategy of leveraging existing infrastructure for sustainable growth in production, with the aim of achieving a **2-3% production growth** over the next 10 years.\\n- The company aims to maintain strong financial discipline while simultaneously implementing strategic expansions and projects to maximize efficiency and returns.\\n\\nOverall, the image provides a clear, structured depiction of ConocoPhillips’ production strategy and development plans in Alaska, emphasizing their commitment to long-term growth and sustainability in their operations.',\n",
       " 'The image presents a bar chart that illustrates the **cost of supply** for oil, specifically focusing on the pricing required to achieve a point-forward 10% return on West Texas Intermediate (WTI) oil. Below is a detailed description of its components:\\n\\n### Chart Overview\\n- **Title:** \"Cost of Supply = Our North Star\" \\n- **Y-Axis:** Represents the \"$/BBL WTI Cost of Supply\" (dollars per barrel).\\n- **X-Axis:** Indicates various categories related to the cost of supplying oil, encompassing \"Capital,\" \"OPEX,\" \"Royalty,\" \"Taxes,\" \"Product Mix,\" \"Differential to WTI,\" and \"WTI CoS.\"\\n  \\n### Bar Segments\\n- **Color Coding:** Different colors represent various cost components:\\n  - **Facilities**: Depicted in dark blue at the bottom, indicating a significant portion of the costs.\\n  - **Wells**: Shown above Facilities, also in dark blue.\\n  - **General and Administrative (G&A)**: Represented in light blue, indicating a smaller but notable portion.\\n  - **Transport**: A portion shown in medium blue, suggesting its contribution to the total cost.\\n  - **Lifting**: Another medium blue bar indicating operational expenses associated with extraction.\\n  - The costs associated with **Royalty**, **Taxes**, and other factors are also delineated with varying colors, forming a stacked view of total costs.\\n  \\n### Key Insights\\n- **Overall Cost Benchmarking:** The chart suggests that achieving a fully burdened metric, which includes every component calculated for each entity, is crucial for understanding cost effectiveness.\\n- **1Overall Cost**: The chart indicates that the ideal cost of supply is under **$40/BBL**, highlighted prominently in dark blue on the right, signifying a target for optimal cost efficiency.\\n- **Strategy Emphasis**: The message “Low Cost of Supply Wins” at the bottom reinforces the company’s focus on maintaining a competitive cost structure in its operations.\\n\\n### Visuals and Trends\\n- The bar lengths visually illustrate the comparative magnitude of each category in relation to one another.\\n- The various segments suggest that operational costs, taxes, and royalties significantly impact the total cost of supply.\\n- The arrangement indicates a disciplined approach, aiming to keep WTI costs low while maximizing returns on investments.\\n\\nOverall, this chart effectively conveys critical information regarding cost components in oil supply and underlines the company\\'s emphasis on efficiency and disciplined financial management as part of its broader strategy.',\n",
       " 'The image presents a combination of bar charts and informative segments, outlining ConocoPhillips\\' reinvestment strategy compared to the industry standards over various time frames.\\n\\n### Detailed Description:\\n\\n1. **Title and Themes:**\\n   - The image is divided into three main sections: \\n     - **Industry Growth Focus**\\n     - **ConocoPhillips Strategy Reset**\\n     - **Disciplined Reinvestment Rate**\\n\\n2. **Left Section: Industry Growth Focus**\\n   - **Chart Type:** A vertical bar chart illustrates the reinvestment rate in the oil industry.\\n   - **Data Representation:** \\n     - The bar reaches above 100%, indicating a reinvestment rate greater than 100%.\\n     - A label states \"Historic Reinvestment Rate,\" with a note indicating a historic average of approximately **$75/bbl (WTI)** for the period **2012-2016**.\\n   - **Y-axis:** Represents the \"ConocoPhillips Average Annual Reinvestment Rate (%)\" and is marked from **0% to 100%**.\\n\\n3. **Middle Section: ConocoPhillips Strategy Reset**\\n   - **Chart Type:** Continues the theme with a single bar chart.\\n   - **Data Representation:** \\n     - A shorter bar indicating a reinvestment rate of approximately **< 50%** for the period **2017-2022**.\\n     - Another label displays the WTI average price of about **$63/bbl** for the same period.\\n\\n4. **Right Section: Disciplined Reinvestment Rate**\\n   - **Chart Type:** Bar chart with multiple bars representing projected reinvestment rates.\\n   - **Data Representation:**\\n     - The chart shows projected reinvestment rates at different future price points.\\n     - For **2023**: A bar for the reinvestment rate at **$80/bbl WTI**.\\n     - For **2024-2028**: A projected reinvestment rate at **$60/bbl WTI**.\\n     - For **2029-2032**: Another projected bar at **$60/bbl WTI**.\\n   - **Additional Insights:**\\n     - Alongside the bars are labels indicating expected **10-Year Reinvestment Rate ~50%** and **CAGR ~6%** at **$60/bbl WTI**, reinforcing a focus on sustainable, disciplined growth.\\n\\n5. **Visual Elements:**\\n   - **Color Coding:** The bars are depicted in shades of gray (historical data) and blue (projected data), enhancing clarity.\\n   - **Dashed Lines:** Indicate projected reinvestment rates at various price points, visually differentiating between past performance and future expectations.\\n\\n### Key Takeaways:\\n- The chart emphasizes the significant discrepancy between historical reinvestment rates and the reduced focus of ConocoPhillips as it resets its strategy.\\n- It highlights an intent to balance returns on and of capital while maintaining discipline in reinvestment, setting a foundation for sustainable financial growth.\\n- Long-term growth forecasts suggest adherence to a disciplined financial strategy, with targets tied to various oil price scenarios.',\n",
       " 'The image presents a graphical representation titled \"10-Year Plan ($B) 2023-2032,\" which outlines ConocoPhillips\\' financial strategy over the next decade.\\n\\n### Graph Description\\n\\n- **Chart Type**: The chart is a **bar graph** illustrating projected cash flow (CFO) from 2023 to 2032, with data differentiated by various oil price scenarios (WTI prices).\\n  \\n- **Vertical Axis (Y-axis)**: The vertical axis represents financial figures in billions of dollars, ranging from $0 to $350. \\n\\n- **Horizontal Axis (X-axis)**: The X-axis categorizes sources and uses of cash.\\n\\n#### Key Data Points:\\n\\n1. **Bars**:\\n   - **CFO at $80/BBL WTI**: Highlighted in a light blue, this segment indicates the potential for higher cash flow, emphasizing the \"upside sensitivity.\"\\n   - **CFO at $60/BBL WTI**: Represented in a darker blue, this bar is labeled as the \"mid-cycle planning price,\" showing a significant cash flow projection.\\n   - **Cash**: Marked as a base value, implying initial available cash.\\n\\n2. **Uses of Cash**:\\n   - **Capital**: Identified along with the cash representation, indicating the financial allocations for investments.\\n   - **30% of CFO Distribution Commitment**: Represents a segment of the additional distributions based on the cash flow projections.\\n   - **Additional Distributions**: Shown in a light-green bar, highlighting funds allocated for shareholder returns.\\n\\n### Insights and Comparisons\\n\\n- The total projected cash flow at both $80/BBL WTI and $60/BBL WTI indicates a robust financial strategy, with the $80 scenario revealing a significantly higher forecast.\\n- The graph suggests a strong commitment to shareholder returns, with planned distributions allowing for more than 90% of the market cap to be transferred to shareholders.\\n- It indicates a breakeven point for free cash flow (FCF) at around $35/BBL WTI, highlighting the company\\'s financial health and stability.\\n\\n### Additional Information\\n\\n- **Key Financial Metrics**:\\n  - **CFO CAGR** (Compound Annual Growth Rate): ~6%\\n  - **FCF CAGR**: ~11%\\n  \\n- The text emphasizes an improving return on capital employed (ROCE) and robust dividend growth, reinforcing the company\\'s long-term value creation strategy for stockholders.\\n\\nThis comprehensive depiction serves to illustrate ConocoPhillips\\' disciplined financial planning and commitment to sustainable growth, with clear targets set for the coming decade.',\n",
       " 'The image consists of a structured layout presenting key elements of ConocoPhillips\\' strategy aimed at enhancing its returns-focused value proposition. It is divided into three main sections, each of which outlines a different aspect of the company\\'s strategic approach.\\n\\n### Detailed Description of the Image:\\n\\n1. **Heading**:\\n   - At the top, a bold header reads \"Strategy Powers Our Returns-Focused Value Proposition.\" This sets the tone for the content below and emphasizes the overall focus on strategic initiatives that drive value.\\n\\n2. **Left Section: Rigorous Capital Allocation Framework**:\\n   - **Icon**: Accompanying this section is an icon depicting a dollar sign next to a calculator, visually representing financial analysis.\\n   - **Text Highlights**:\\n     - The key points include a \"commitment to disciplined reinvestment rate.\"\\n     - There is mention of \"Cost of Supply analysis\" which informs investment decisions.\\n     - The section emphasizes a \"balance of short-cycle, flexible unconventional\" resources with \"select longer-cycle, low-decline conventional\" investments.\\n\\n3. **Middle Section: Differentiated Portfolio**:\\n   - **Icon**: This section features a magnifying glass over a graph, indicating a focus on analysis and performance.\\n   - **Text Highlights**:\\n     - It notes an approximate resource base of \"20 BBOE\" with a \"low Cost of Supply\" of less than \"$40/Bbl WTI.\"\\n     - It states a \"leading Lower 48 unconventional position,\" complemented by premium assets from Alaska and international markets.\\n     - Additionally, it highlights a \"strong track record of active portfolio management,\" indicating the company\\'s proactive approach in optimizing its resource allocation.\\n\\n4. **Right Section: Valued Role in the Energy Transition**:\\n   - **Icon**: A circular flow chart icon suggests a systematic approach to energy transition.\\n   - **Text Highlights**:\\n     - It mentions an \"accelerating GHG-intensity reduction target through 2030,\" showcasing a commitment to sustainability.\\n     - The section states that the company has \"built an attractive LNG portfolio\" as a part of its strategy.\\n     - It concludes with a note about \"evaluating longer-term low-carbon options\" in hydrogen and carbon capture storage (CCS), demonstrating foresight in energy innovations.\\n\\n### Overall Insights:\\n- The image clearly articulates ConocoPhillips\\' multifaceted strategy that focuses on disciplined financial management, a robust and diversified portfolio, and a strong commitment to sustainability and energy transition.\\n- Each section effectively employs a combination of icons and text, creating a visually appealing and informative presentation tailored to stakeholders interested in the company’s strategic direction and long-term viability.\\n\\nThis structured approach ensures clarity and relevance, presenting key takeaways in a concise manner that reinforces the company\\'s core strategies for stockholder value creation.',\n",
       " 'The image features a prominent graph titled \"The Macro,\" which depicts the historical oil price for West Texas Intermediate (WTI) from 2019 to 2024+. The vertical axis represents the oil price measured in dollars per barrel ($/BBL), while the horizontal axis shows the timeline from 2019 to 2024.\\n\\n### Graph Description:\\n- **Type of Chart:** The chart is a line graph that illustrates the fluctuations in oil prices over the specified years.\\n- **Key Trends:**\\n  - The line starts at a low price point in 2019, below $30.\\n  - From 2020, a significant upward trend is observed, with rapid price increases peaking around 2022, reaching close to $120.\\n  - After the peak, the graph shows volatility, with prices experiencing noticeable fluctuations between mid-2022 and early 2023.\\n  - For 2023 and beyond, a slight decline is visible, stabilizing around the mid-$70 to $80 range.\\n\\n- **Key Labels:**\\n  - A dashed horizontal line, labeled \"$60/BBL WTI Mid-Cycle Planning Price,\" is presented, indicating the company\\'s target price for mid-cycle planning.\\n\\n### Insights:\\n- The graph reflects the volatility and cycles inherent in oil markets, demonstrating peaks and troughs that are significant for stakeholders and investors.\\n- The planned price point at $60 serves as a benchmark for financial planning and strategy considerations within the company.\\n\\n### Accompanying Text:\\nTo the right of the graph, several key statements summarize ConocoPhillips\\' commitments and strategic focus:\\n- The company expresses its dedication to delivering superior returns on and of capital throughout market cycles.\\n- Emphasizes its strong, diverse portfolio.\\n- Highlights strategic goals related to their 2050 Net-Zero ambition alongside an acceleration of its 2030 greenhouse gas emissions intensity reduction target.\\n\\nOverall, the image cohesively combines graphical data representation with strategic messaging to underscore the company’s focus on financial discipline, sustainability goals, and value creation for shareholders.',\n",
       " 'The image features a visually appealing diagram illustrating the \"Triple Mandate\" concept, which is designed to align with ConocoPhillips\\' business realities. \\n\\n### Description of the Diagram:\\n- **Shape:** The diagram is circular, divided into three distinct segments that converge at the center, creating a Venn diagram-like structure.\\n- **Color Scheme:** Each segment has its own color:\\n  - The upper left segment is **green**, labeled \"MEET TRANSITION PATHWAY DEMAND.\"\\n  - The upper right segment is **orange**, labeled \"DELIVER COMPETITIVE RETURNS.\"\\n  - The lower segment is **blue**, labeled \"ACHIEVE NET-ZERO EMISSIONS AMBITION.\"\\n  \\n- **Text:** The labels within each segment are prominently displayed in a clear, sans-serif font, ensuring readability.\\n\\n### Key Themes and Insights:\\n1. **Green Section:** Focuses on the company\\'s commitment to transitioning their energy supply to meet future demand, indicating an adaptive response to changing energy landscapes.\\n  \\n2. **Orange Section:** Emphasizes delivering competitive returns, highlighting the company\\'s dedication to maintaining financial health and providing value to shareholders.\\n\\n3. **Blue Section:** Reflects the ambition to achieve net-zero emissions, showcasing ConocoPhillips\\' sustainability goals and commitment to reducing their environmental impact.\\n\\n### Overall Message:\\nThe diagram effectively communicates ConocoPhillips’ strategic emphasis on balancing demand, returns, and sustainability. It suggests that the company is committed to integrating these three key priorities into their business plan to create long-term value for stakeholders while addressing both market expectations and environmental responsibilities.',\n",
       " 'The image appears to be a graphic illustrating the foundational principles of ConocoPhillips\\' investment strategy, centered around the concept of \"Returns.\" The layout is circular, with each foundational principle radiating outwards from the central theme.\\n\\n### Detailed Description:\\n\\n- **Central Element**: \\n  - The word “RETURNS” is prominently placed in the center, displayed in bold red text, indicating its importance in the company\\'s strategy.\\n\\n- **Surrounding Principles**:\\n  - The graphic is structured with four main principles surrounding the central element, each represented by icons and labels:\\n    1. **Balance Sheet Strength**: \\n       - An icon resembling a document with a dollar sign, emphasizing financial health.\\n    2. **Disciplined Investments**: \\n       - This principle features an upward-trending line graph icon, symbolizing growth and careful investment strategies.\\n    3. **ESG Excellence**: \\n       - The icon for this principle depicts a globe encompassed by figures representing a diverse group of people, highlighting the company’s commitment to environmental, social, and governance standards.\\n    4. **Peer-Leading Distributions**: \\n       - An icon that represents arrows pointing upward with a dollar symbol, suggesting strong dividend or distribution performance compared to peers.\\n\\n- **Additional Text**: \\n  - At the bottom of the graphic, the phrase \"Deliver Superior Returns Through Cycles\" is written, conveying the company\\'s overarching goal to maintain profitable performance regardless of market fluctuations.\\n\\n### Key Takeaways:\\n- The image effectively communicates the company\\'s strategic focus on generating strong returns for shareholders through a balanced approach encompassing financial soundness, strategic investments, sustainability, and competitive distribution policies.\\n- The visual representation emphasizes not only the interconnectedness of these principles with returns but also encapsulates the company’s commitment to long-term value creation for stockholders.']"
      ]
     },
     "execution_count": 297,
     "metadata": {},
     "output_type": "execute_result"
    }
   ],
   "source": [
    "image_summaries"
   ]
  },
  {
   "cell_type": "code",
   "execution_count": 298,
   "metadata": {},
   "outputs": [
    {
     "data": {
      "text/plain": [
       "['Proxy Statement of ConocoPhillips for Year 2024 and AIM (Analyst and Investor Meeting) of Year 2023.\\n\\nChief Executive Officer and Lead Director Notice of 2024 Annual Meeting.\\nof Stockholders Proxy Summary.\\nAbout ConocoPhillips.\\nStockholder Engagement.\\nDirector Nominees.\\nGovernance Highlights.\\nExecutive Compensation.\\nProgress Report on Our Plan for the Net-Zero Energy Transition.\\nItem 1: Election of Directors.\\nand Director Biographies.\\nBoard Composition and Refreshment.\\nDirector Onboarding and Education.\\nBoard and Committee Evaluations.\\nCorporate Governance at ConocoPhillips.\\nBoard Leadership Structure.\\nBoard Independence.\\nRelated Party Transactions.\\nBoard Meetings and Committees.\\nBoard Oversight of Risk Management.\\nStockholder Engagement and Board Responsiveness.\\nCode of Business Ethics and Conduct.\\nCommitment to Our Culture.\\nHuman Capital Management.\\nPublic Policy Engagement.\\nCommunications with the Board of Directors.\\nDirector Compensation.',\n",
       " 'Compensation Committee - 65, Authority and Responsibilities - 65, Members - 65, Meetings - 65, Compensation Discussion and Analysis - 66, Executive Overview - 67, Philosophy and Principles of Our Executive - 67, Compensation Program - 73, Majority of Executive Compensation is Performance Based - 74, Components of Executive Compensation - 74, Process for Determining Executive Compensation - 77, Executive Compensation 2023 - 84, Other Executive Compensation and Benefits - 93, Executive Compensation Governance - 95, Human Resources and Compensation Committee - 97, Report - 97, Interlocks and Insider Participation - 97, Summary Compensation Table - 98, Grants of Plan-Based Awards Table - 101, Outstanding Equity Awards at Fiscal Year-End - 103, Option Exercises and Stock Vested - 105, Pension Benefits - 105, Nonqualified Deferred Compensation - 107, Executive Severance and Changes in Control - 109, CEO Pay Ratio - 115, Pay Versus Performance - 116, Linking Pay and Performance - 119',\n",
       " \"Securities Ownership of Officers. 122 individuals hold approximately 120% of ConocoPhillips' outstanding shares.\\n\\nEquity Compensation Plan Information. The equity compensation plan is a performance-based system, where executives and directors receive stock awards based on company performance.\\n\\nStockholder Proposals. The company has received 125 proposals from shareholders that can be submitted for review and potential voting at the upcoming Annual Meeting of Shareholders.\\n\\nItem 4: Stockholder Proposal — Vote. This proposal aims to vote on whether to revise the pay incentives for greenhouse gas (GHG) related matters.\\n\\nMajority Ownership. ConocoPhillips is a multinational oil company with significant ownership by institutional investors, including institutional stockholders and pension funds.\",\n",
       " \"Stockholders of record and beneficial, who can vote on ConocoPhillips' business to take place at the year 2023 AIM meeting, with access to proxy statement and annual report, including non-GAAP financial measures, non-GAAP reconciliations, other measures, and stockholder information.\",\n",
       " \"The proxy statement discusses ConocoPhillips' election of 12 directors, including approval by an independent registered accounting firm. It also proposes two new proposals: one requiring the board to approve executive officers' compensation and another revisiting pay for GHG emission reduction goals.\",\n",
       " 'Acquired remaining 50% working interest in Surmont, progressed LNG strategy through expansion in Qatar, FID at PALNG, and regasification agreements in the Netherlands, and offtake agreements in Mexico; awarded Gold Standard Pathway designation by OGMP; accelerated GHG emissions-intensity reduction target through 2030. Generated $11B in earnings; reported net income per share EPS at $8.77; reported adjusted net income; generated cash provided by operating activities of $21.3B; reported CFO and FCF; ended cash with $6.9B',\n",
       " 'ConocoPhillips has focused on low-cost production and reduced greenhouse gas intensity, with progress made on methane reduction, improved transparency in emissions reporting, and accelerated flaring targets.',\n",
       " 'Board candidates pool committee new members',\n",
       " \"Gay Huey Evans CBE Former Chairman, London Metal Exchange\\nS&P Global Inc. 2013 69 @ Qg is \\nJeffrey A Joerres Former Executive Chairman and Chief Executive Officer, ManpowerGroup Inc.\\n+ Artisan Partners Asset Management Inc. 2018 64 @ e |e Q {a}\\nRyan M Lance Chairman and Chief Executive Officer, ConocoPhillips\\nFreeport-McMoRan, Inc. 2012 61 @ e (ac) \\nTimothy A Leach Advisor to the Chief Executive Officer, ConocoPhillips \\n2021 64 @ Y g is \\nWilliam H McRaven Retired U.S. Navy Four-Star Admiral (SEAL)\\n28s 8 @ eo \\nSharmila Mulligan Former Chief Strategy Officer, Alteryx\\n2017 58 @ lan) Q ty!\\nEric D Mullins Chairman and Chief Executive Officer, Lime Rock Resources\\n- Valero Energy Company 2020 61 @ lan) fo \\nArjun N Murti Partner, Veriten LLC\\n2015 55 @ — BS \\nRobert A Niblock Lead Director Former Chairman, President, and Chief Executive Officer, Lowe's Companies, Inc.\\n+ Lamb Weston Holdings, Inc. - PNC Financial Services Group, Inc. \\n2010 61 @ e re Q ty! \\nDavid T Seaton Former Chairman and Chief Executive Officer, Fluor Corporation\\n. The Mosaic Company an \\nR.A Walker Former Chairman and Chief Executive Officer, Anadarko Petroleum Corporation\",\n",
       " 'None. \\n\\nEnvironmental/sustainability  \\nHuman capital  \\nManagement \\n None',\n",
       " 'CEO or senior officer Financial reporting Regulatory/government Human capital management Global',\n",
       " 'Environmental/ sustainability, Human capital management.',\n",
       " 'Global Regulatory/government reserves es Public company board servic Environmental/sustainability Human capital management Co',\n",
       " 'aS = 1000 Global mm Regulatory/government Technology Human Capital Management',\n",
       " 'EVALUATION QUESTIONNAIRES, INDIVIDUAL INTERVIEWS, REVIEW OF FEEDBACK, USE OF FEEDBACK, CHANGES IMPLEMENTED.',\n",
       " \"The tables detail Dennis V Arriola's ordinary course business transactions in 2023.\",\n",
       " 'The meetings with a specific person took place 7 times. This individual assists the board in managing their pay.',\n",
       " 'Committee meetings, Retention and compensation programs, Diversity and inclusion.',\n",
       " \"ConocoPhillips' leadership team is responsible for sustainability, public policy, and development functions. The company's business unit presidents are executive officers.\",\n",
       " 'Board Communication G2 Annual Meeting \\nPhone Number: (281) 293-3030\\nEmail Address: boardcommunication@kennedy-nuttassociates.com',\n",
       " 'Name Fees Earned or Paid in Cash Stock Awards Option Awards Non-Equity Incentive Plan Compensation Pension Value and Nonqualified Deferred Compensation onEarnings All Other Compensation Total',\n",
       " \"ConocoPhillips' 2023 proxy statement reported the following stock holdings: \\n\\n* D.V. Arriola holds approximately 2,583 shares\\n* C.M. Devine (retired) holds approximately 18,777 shares\\n* J. Freeman (resigned) holds approximately 25,914 shares\\n* G. Huey Evans holds approximately 44,162 shares\\n* J.A. Joerres holds approximately 19,077 shares\\n* W.H. McRaven holds approximately 17,967 shares\\n* S. Mulligan holds approximately 20,556 shares\\n* E.D. Mullins holds approximately 16,131 shares\\n* A.N. Murti holds approximately 49,318 shares\\n* R.A. Niblock holds approximately 83,997 shares\\n* D.T. Seaton holds approximately 10,057 shares\\n* R.A. Walker holds approximately 10,057 shares\",\n",
       " '<sup>2nd Quarter 2023 Proxy Statement</ sup>\\n<sup>AIM Analyst and Investor Meeting for Year 2023</ sup>\\n<table>\\n <thead>\\n  <tr>\\n   <th>Name</th>\\n   <th>Upon Award Delivery</th>\\n  </tr>\\n </thead>\\n <tbody>\\n  <tr>\\n   <td>D.V. Arriola</td>\\n   <td>Ss =</td>\\n  </tr>\\n  <tr>\\n   <td>C.M. Devine (retired)</td>\\n   <td>396,305</td>\\n  </tr>\\n  <tr>\\n   <td>J. Freeman (resigned)</td>\\n   <td>-</td>\\n  </tr>\\n  <tr>\\n   <td>G. Huey Evans</td>\\n   <td></td>\\n  </tr>\\n  <tr>\\n   <td>J.A. Joerres</td>\\n   <td>-</td>\\n  </tr>\\n  <tr>\\n   <td>W.H. McRaven</td>\\n   <td></td>\\n  </tr>\\n  <tr>\\n   <td>S. Mulligan</td>\\n   <td>197,217</td>\\n  </tr>\\n  <tr>\\n   <td>E.D. Mullins</td>\\n   <td></td>\\n  </tr>\\n  <tr>\\n   <td>A.N. Murti</td>\\n   <td></td>\\n  </tr>\\n  <tr>\\n   <td>R.A. Niblock</td>\\n   <td></td>\\n  </tr>\\n  <tr>\\n   <td>D.T. Seaton</td>\\n   <td></td>\\n  </tr>\\n  <tr>\\n   <td>R.A. Walker</td>\\n   <td></td>\\n  </tr>\\n </tbody>\\n</table>',\n",
       " 'Name|Reimbursement Gross-Up\" | Retirement Gifts\" | Other Compensation | Matching Gift Amounts | Total\\nD.V. Arriola    $10,000         $10,000          -$        $30,790\\nC.M. Devine   (retired)  $10,640       $10,150         -           $30,790\\nJ. Freeman     (-)            (-)            (-)      (-)\\nG. Huey Evans  (-)            (-)            (-)      ($26,218)\\nJ.A. Joerres   (-)            (-)            (-)      (-)\\nW.H. McRaven  (-)            (-)            (-)      (-)\\nS. Mulligan    (=)_            (=)_          (=_)     (=__\\nE.D. Mullins (-)           (=)            (=)      (=)\\nA.N. Murti      (-)            (-)            (-)      (-)\\nR.A. Niblock   (-)            (-)            (10,000) ($10,000)\\nD.T. Seaton    (-)            (-)            (-)     (-)',\n",
       " \"The names of the attendees appear to be listed in a table format with four columns for each attendee's name, separated by commas.\",\n",
       " 'The ConocoPhillips 2023 compensation program structure consisted of a total compensation package worth $67 million, with the majority being performance-based. The key components included strategic alignment and leadership philosophy.',\n",
       " \"ConocoPhillips' executive compensation ranges from $1 million to $2.5 million per year, with a performance-based component that can increase up to 200% of target for executives meeting key milestones and targets.\",\n",
       " \"ConocoPhillips acquired a 50% working interest in Surmont's LNG strategy.\",\n",
       " 'ConocoPhillips\\' executive compensation metrics prioritize \"Health, Safety, and Environmental\" (\"HSE\") over other categories. The company allocates cash flow primarily for sustaining capital invested in production and existing dividend payments under a specific percentage of operations.',\n",
       " \"ConocoPhillips' 2024 proxy statement includes a section outlining the company's compensation for executives, with salaries ranging from 9% to 50%, while restricted stock units and performance shares represent varying percentages.\",\n",
       " \"ConocoPhillips' compensation packages for 2023 include a base salary of 19%, Venture Capital Incentive Program (VCIP) awards of 18%, restricted stock units valued at 21%, and performance shares worth 42%.\",\n",
       " \"*ConocoPhillips' proxy statement for 2024 lists its top five holdings as Exxon Mobil Corporation, Chevron Corporation, Marathon Oil Corporation, Devon Energy Corporation and Occidental Petroleum Corporation.\\n*The same document also reports on the company's Return on Capital Expenditures (ROCE), stating that it achieved a relative total shareholder return of +40% from PSP 21 to PSP 24.\",\n",
       " 'ConocoPhillips stock participated in the AIM meeting of 2023 with a presence as follows:\\n\\n* 3M Company\\n* Exxon Mobil Corporation\\n* Occidental Petroleum Corporatior\\n* APA Corporation*\\n* General Dynamics Corporation\\n* Pfizer Inc.\\n* Bristol-Myers Squibb Company\\n* Halliburton Company*\\n* Phillips 66\\n* Caterpillar Inc.\\n* Honeywell International Inc.\\n* RTX Corporation\\n* Chevron Corporation*\\n* Lockheed Martin Corporation\\n* Schlumberger N.V.*\\n* Cummins Inc.\\n* Marathon Petroleum Corporation*\\n* Valero Energy Corporation*\\n* Devon Energy Corporation*\\n* EOG Resources, Inc.*',\n",
       " 'HSE (Hot Skid) targets are set to be achieved in operational and financial performance. Strategic milestones for the year include increasing HSE targets and securing new energy projects.',\n",
       " 'Production and proved reserves have increased by 10% compared to the previous year.',\n",
       " 'Production and proved reserves for major E&P companies.',\n",
       " \"R.M. Lance's and W.L. Bullock, Jr.'s salaries increased, while K.B. Rose, N.G. Olds, and D.E. Macklon's salaries remained the same.\",\n",
       " 'The table shows percentile ranks for various income levels based on individual year-end 2023 returns. The rankings are ordered from lowest (0%) to highest (200%).',\n",
       " \"The table appears to show the payout structure of ConocoPhillips' corporate performance, with two columns representing different components: Eligible Earnings and Corporate Performance Payout. The numbers in parentheses represent dollar amounts.\",\n",
       " \"ConocoPhillips' HSE (Health, Safety, Environment) and Process Safety Events metrics achieved top-quartile performance. The company's PSE rate remained below industry averages despite an increase in serious incidents.\\n\\nProduction production exceeded target by 1% with L48 exceeding the target. Capital spending was delivered within a 1% of target scope.\",\n",
       " \"ConocoPhillips' 2023 eligible earnings and payouts to various executives totaled $4.6 billion.\",\n",
       " 'Financial performance measured through 20-day average methodology and adjusted ROCE.',\n",
       " 'R.M. Lance: Total compensation for 2023 was $20,770,673\\nK.B. Rose Senior Vice President, Legal, General Counsel, and Corporate Secretary:\\nTotal compensation for 2023 was $5,718,549',\n",
       " 'ConocoPhillips reported PSP stock with total value of $14,842,125.',\n",
       " 'Personal Use of Company Aircraft: $100,354\\nBusiness Related Use of Company Aircraft: $62,965\\nMatching Program: -$52,171\\nExpatriate\" and Executive Group Insurance Premiums: $15,000 each\\nTax and Financial Planning: - $10,476\\nContributions to Non- Qualified Defined Contribution Plans: $7,074\\nContributions to Qualified Defined Contribution Plans: $39,600\\nMatching Contributions Under the Tax-Qualified Savings Plans: $160,745\\nNon-Qualified Defined Contribution Plan Contributions: $448,368',\n",
       " 'Estimated future payouts under non-equity incentive plan awards are $2.9 billion with an average price of $0.90 per unit and a closing price of $1.29 per option. Estimated future payouts under equity incentive plan awards total $17.4 billion with a fair value of stock and options awards of $5.75 billion.',\n",
       " 'The table lists the equity incentive plan awards for specific individuals in ConocoPhillips. The awards include number of securities under exercised options and unexercised options, as well as other relevant information such as option exercise price, expiration date, and market value.',\n",
       " 'R.M. Lance: 569,400 shares acquired on exercise; $32,272,738 value realized upon exercise\\nW.L. Bullock, Jr.: 73,584 shares vested; $7,725,018 value realized upon vesting\\nK.B. Rose: 66,877 shares vested; $7,034,023 value realized upon vesting\\nN.G. Olds: 37,062 shares vested; $3,888,406 value realized upon vesting\\nD.E. Macklon: 57,327 shares vested; $6,014,793 value realized upon vesting',\n",
       " 'ConocoPhillips Retirement Plans. 40 million accumulated benefit at 2024 end of year, $1.9 billion present value, $0 payments made last fiscal year.',\n",
       " 'Applicable Plan, Beginning Balance, Executive Contributions, Registrant Contributions, Aggregate Earnings, Aggregate Withdrawals/Distributions, Aggregate Balance at Last FYE.',\n",
       " 'R.M. Lance; base salary $3,502,000 and $5,253,000 upon termination without cause or for good reason; short-term incentive of $5,778,300 from January 2021 to December 2023; variable cash incentive program participation as a whole; and $4,260,104 in performance period from January 2022 to December 2024.',\n",
       " 'Executive Benefits and Payments Upon Termination\\nInvoluntary Not-for-Cause Termination (Not CIC)\\nhhepeeheeel de Not-for-Cause or Good Reason Termination (CIC)\\nDeath\\nDisability',\n",
       " 'Executive Benefits and Payments Upon Termination\\n\\nK.B. Rose; Base Salary ($1,903,968); Not-for-Cause or Good Reason Termination (CIC) ($2,855,952)\\nShort-term Incentive: $3,741,990\\nVariable Cash Incentive Program: -$ (-$3,740,900)\\nJanuary 2021-December 2023 Performance Period: CIC ($1,808,770)\\nJanuary 2022 - December 2024 Performance Period: $1,005,674\\nJanuary 2023 - December 2025 Performance Period: $1,550,653',\n",
       " 'Executive Benefits and Payments Upon Termination N.G. Olds*\\n\\nInvoluntary Not-for-Cause Termination (Not CIC) payments: $2,551,680\\nInvoluntary Not-for-Cause or Good Reason Termination (CIC) payments: \\nBase salary: -$1,701,120\\nShort-term Incentive: $2,764,255\\nVariable Cash Incentive Program: $808,032\\n\\nTotal CIC payments: $3,563,202',\n",
       " 'Executive Benefits and Payments Upon Termination D.E. Macklon* \\nInvoluntary Not-for-Cause Termination (Not CIC) \\nIOS Not-for-Cause or Good Reason Termination (CIC) \\nPayment Structure \\nBase Salary $1,820,112 \\nShort-term Incentive \\n1,729,106 \\nVariable Cash Incentive Program \\n864,553 \\nTotal Payments Upon Termination ($10,144,569)',\n",
       " 'Production and proved reserves for ConocoPhillips in Malaysia, China, Singapore, Qatar, and Libya.',\n",
       " '2023 ConocoPhillips company TSR and PeerGroup TSR totals for CEO and non-CEO NEOs, average compensation for each, and investment based on $100.',\n",
       " 'SCT Total: $20,770,673\\nMinus increase in actuarial present value of pensions: -$1,165,127\\nPlus service cost of such pensions: +853,822\\nPlus prior service cost of such pensions: - \\nMinus grant date fair value of awards: (+14,842,125) to (-3,494,393)\\nMinus grant date fair value of awards: (-3,494,393) to (-14,842,125)\\nPlus year-end fair value of equity awards granted and unvested at end of year: +31,471,386\\nPlus vesting date fair value of equity awards granted and vested during the year: +391,450\\nPlus or minus change in fair value from prior year end to current year end of outstanding equity awards granted in a prior year and unvested at year end: (+289,346) to (-49,223)\\nPlus or minus change in fair value from prior year end to vesting date of equity awards granted in a prior year and vested during the year: (3,727,845) to (705,642)',\n",
       " 'State Street Corporation; 71,554,551 shares; 6.03% Class; The Vanguard Group; 109,815,887 shares; 9.25% Class',\n",
       " '- Total Common Stock Beneficially Owned: ConocoPhillips holds -.\\n- Options Exercisable Within 60 Days: \\n- Restricted/Deferred Stock Units: \\n- D.V. Arriola: -.\\n- G. Huey Evans: -.\\n- J.A. Joerres: -.\\n- T.A. Leach: 511,409.\\n- W.H. McRaven: -.\\n- S. Mulligan: 1,974.\\n- E.D. Mullins: 226.\\n- A.N. Murti: 19,000.\\n- R.A. Niblock: -.\\n- D.T. Seaton: 2,500.\\n- R.A. Walker: 34,500.\\n- R.M. Lance: 155,517.\\n- W.L. Bullock, Jr.: 49,734.\\n- K.B. Rose: 26,041.\\n- D.E. Macklon: 340.\\n- N.G. Olds: 15,802.\\n- Director Nominees and Executive Officers as a Group (22 Persons): 1,050,580.',\n",
       " 'Equity compensation plans approved by security holders total 13,976,088 shares with an exercise price of $52.55 and available for future issuance of 36,000,000 securities.',\n",
       " 'Voting record: ConocoPhillips Board of Directors votes in favor for all nominees. The majority voted to abstain from voting on specific nominees or against all nominees and the nominee standing for election as director, with a single abstainer vote.',\n",
       " 'Net cash provided by operating activities: $16.996 billion; net operating working capital changes: $1.271 billion in 2022; cash from operations: $28.548 billion; capital expenditures and investments: $11.248 billion; free cash flow: $10.399 billion',\n",
       " 'Consolidated net income was $10,957 million for the year ended 12/31/2023, with a pre-tax loss of $9.06 billion and an after-tax loss of $8.77 billion.',\n",
       " \"ConocoPhillips' net income for 2023 reached $10.957 million.\",\n",
       " 'Return on Capital Employed = 4%, Peer-Leading Distributions and Returns $1.11/share, Return of Capital! = $4.45/share, Net Debt = $24B, Cash From Operations = $5B.',\n",
       " 'Production and proved reserves of ConocoPhillips are higher than $1.6 million boe with over 10 billion barrels equivalent (BBOE) in the Montney and Chinook formations, while working interest consolidations have increased acreage by Shell Permian and APLNG.',\n",
       " 'Key production and development projects at ConocoPhillips in 2024.',\n",
       " 'Strategic God, Down-cycle price protection, Business development optionality, Maintain near-term operating plan, Daily operating working capital.',\n",
       " 'Net Income Attributable to ConocoPhillips: $18,680; Adjusted net income excluding special items: ($1,340); Net income attributable to noncontrolling interests: $56; After-tax interest expense: $641; XOCE Earnings: ($17,981)',\n",
       " 'Net Cash Provided by Operating Activities: (11,104) - (579) = 10,525\\nCash from Operations: 11,683 - (234) = 11,449\\nCapital Expenditures and Investments: (6,636) - (10,159) = -3,523\\nFree Cash Flow: 5,047 - (18,389) = -13,342',\n",
       " \"Capital Expenditure and Investments: ConocoPhillips' spending on new projects and investments totals $13.922 billion in 2023.\\nNet Cash Provided by Operating Activities: The company generated $13.922 billion in operating cash outflows in 2023, leaving net cash provided for working capital at $28.314 billion.\"]"
      ]
     },
     "execution_count": 298,
     "metadata": {},
     "output_type": "execute_result"
    }
   ],
   "source": [
    "table_summaries"
   ]
  },
  {
   "cell_type": "code",
   "execution_count": 299,
   "metadata": {},
   "outputs": [
    {
     "data": {
      "text/plain": [
       "['ConocoPhillips\\n\\n2024 Annual Report\\n\\nTable of Contents\\nA Message from Our Chairman and Chief Executive Officer Notice of 2023 Annual Meeting of Stockholders \\nProxy Summary About ConocoPhillips Stockholder Engagement Director Nominees Governance Highlights Executive Compensation Progress Report on Our Plan for the Net-Zero Energy Transition FOR Item 1: Election of Directors and Director Biographies Board Composition and Refreshment Director Onboarding and Education Board and Committee Evaluations Corporate Governance at ConocoPhillips Board Leadership Structure Board Independence Related Party Transactions Board Meetings and Committees Board Oversight of Risk Management Stockholder Engagement and Board Responsiveness Code of Business Ethics and Conduct Commitment to Our Culture Human Capital Management Public Policy Engagement Communications with the Board of Directors Director Compensation Audit and Finance Committee Report FOR Item 2: Proposal to Ratify the Appointment of Ernst & Young LLP \\nA Message from Our Chairman and Chief Executive Officer and Lead Director Notice of 2023 Annual Meeting of Stockholders Proxy Summary About ConocoPhillips Stockholder Engagement Director Nominees Governance Highlights Executive Compensation Progress Report on Our Plan for the Net-Zero Energy Transition FOR Item 3: Advisory Approval of Executive Compensation \\nStock Ownership Holdings of Major Stockholders Securities Ownership of Officers and Directors Equity Compensation Plan Information Stockholder Proposals FOR Item 4: Stockholder Proposal — Simple Majority Vote AGAINST Item 5: Stockholder Proposal — Revisit Pay Incentives for GHG Emission Reductions Submission of Future Stockholder Proposals and Nominations Rule 14A-8 Stockholder Proposals Proxy Access Nominations Other Proposals/Nominations Under the Advance Notice By-Law How to Reach Our Corporate Secretary Available Information and Q&A About the Annual Meeting and Voting Attending the Annual Meeting Stockholders of Record and Beneficial Stockholders: Know Which One You Are Who Can Vote and How Business to Take Place at the Meeting Proxies Ways to Get Our Proxy Statement and Annual Report Appendix A Non-GAAP Financial Measures Non-GAAP Reconciliations Other Measures Stockholder Information ConocoPhillips 2023 Notable Recognitions and Achievements Cautionary Note Regarding Forward-Looking Statements',\n",
       " 'ConocoPhillips reaffirmed its durable returns-focused value proposition with an updated 10-year financial plan that produces solid free cash flow.',\n",
       " 'The table or text chunk \"Looking to the Future\" focuses on ConocoPhillips\\' strategy of differential operations, prioritizing safety, efficiency, and responsibility, and their position in the energy transition. It emphasizes the company\\'s commitment to operational excellence, diversity, and environmental sustainability. The section also discusses stakeholder engagement, voting procedures, and the importance of participating in the Annual Meeting.',\n",
       " 'Executed on value proposition delivering strong financial and operational performance consistent with superior returns to stockholders\\n\\nDelivered full-year total and Lower 48 record production of 1,826 thousand barrels and 1,067 thousand barrels of oil equivalent per day while enhancing portfolio diversity through the acquisition of Surmont in Alaska and progressions in global LNG strategy',\n",
       " 'Board composition with 12 nominees: all serving as directors since 2012 or earlier; majority of board members are male and white, with only one (Timothy A. Leach) being non-white and female.',\n",
       " 'Board composition and refreshment',\n",
       " 'Compensation is performance-based with long-term equity compensation designed to encourage executive retention and aligned with long-term value creation. The Performance Share Program provides a total of 27% of long-term incentive value, divided between energy transition milestones (10%) and performance metrics (65%). Performance targets are set based on the Triple Mandate and Company Strategy, with relative Total Shareholder Return (60%) and Financial—Relative Adjusted ROCE (40%).',\n",
       " 'Election of Directors, Board Composition, Voting on Proposals.',\n",
       " 'Board candidates are vetted based on qualifications, leadership, experience, and skills, including financial reporting expertise, capital markets knowledge, energy industry experience, regulatory expertise, technology understanding, and diversity.',\n",
       " 'Nominees required majority votes for acceptance.',\n",
       " '12 current ConocoPhillips directors are standing for election to hold office until the 2025 Annual Meeting of Stockholders.',\n",
       " \"Director Since: July 2018\\nConocoPhillips Committees:\\n- Executive Committee (Chair)\\n- Human Resources and Compensation Committee\\n- Chairman for the Board\\nAge: \\n- Age: 64\\nCommittee on Directors' Affairs\\n- Executive Committee\\n- Green Bay Packers\\n- Kohler Co.\\n- The Western Union Company\\n- Artisan Partners Asset Management Inc.\",\n",
       " 'Director Eric D. Mullins serves as chairman and CEO of Lime Rock Resources and previously held positions at Goldman Sachs and Valero Energy Company, providing strategic leadership qualities to the ConocoPhillips board.',\n",
       " 'Robert A Niblock \\nDavid T Seaton \\nR.A Walker',\n",
       " 'The ConocoPhillips Board of Directors has recommended that their votes be approved by supporting each nominee for election as director. The new directors bring a mix of skills, qualifications, and diversity to the board, including expertise in environmental matters and sustainability, global organization experience, and a focus on corporate governance guidelines.',\n",
       " \"The company believes in maintaining flexibility in its governing documents to allow the Board of Directors to determine what organizational model best serves the interest of the company and its stockholders. The Committee on Directors' Affairs determined that it is in the best interest of ConocoPhillips and its stockholders to maintain flexibility in our governing documents, despite a proposal by a stockholder suggesting separation of the role of CEO and Chairman.\",\n",
       " \"Dennis V. Arriola, non-employee directors, preside over Board meetings and manage discussion with the Chairman; has authority to call non-employee director meetings; advises the Chairman of information needs; and ensures appropriate information is provided to the Board.\\n\\nConocoPhillips' Corporate Governance Guidelines state that all non-employee directors meet independence standards. The Board considered the nature of their business affiliations, but determined they are independent due to immaterial relationships and transactions involving no material interest to ConocoPhillips or the director.\",\n",
       " \"The ConocoPhillips Board has five standing committees: Executive Committee; Audit and Finance Committee; Human Resources and Compensation Committee; Public Policy and Sustainability Committee; and the Committee on Directors' Affairs.\",\n",
       " 'Board of Directors | 5\\nAudit and Finance Committee on Public Policy\\nPrimary responsibilities: Advises the Board on current and emerging domestic and international public policy issues. Reviews and makes recommendations to the Board on policies and budgets for charitable and political contributions, with a focus on health, safety, security, environmental protection, sustainable development, climate-related trends and risks, operations risk management, government relations, political/regulatory risk management, and similar matters. Assists in fulfilling oversight of enterprise risk management, particularly risks in connection with political, safety, sustainable development (social and environmental), and climate-related issues or trends affecting the company and risks related to operational integrity and public policy aspects of business.',\n",
       " 'ConocoPhillips has a comprehensive risk governance framework to manage sustainability-related risks throughout its organization, including climate-related, nature-related, social-related, and succession planning risks.',\n",
       " \"The proxy statement discusses ConocoPhillips' governance processes and how it engages with investors, including:\\n\\n* The Committee on Directors' Affairs has adopted Board and Shareholder Communication and Engagement Guidelines\\n* Management meets with stockholders to solicit input and report on key themes and results of these conversations\\n* Stockholders were actively reached out to invite participation in discussions with the engagement team in 2023\\n* The Board evaluated and responded to stockholder views, leading to enhancements in corporate governance and other practices.\",\n",
       " \"Stockholders were interested in hearing about the company's governance structure, including its board composition, leadership structure, and oversight processes.\",\n",
       " \"ConocoPhillips' human capital management strategy focuses on creating a workplace where employees feel valued through a compelling culture, attracting and retaining a world-class workforce, and valuing their contributions. The company relies on its workforce to execute its strategy and recognizes the importance of accountability and performance. Key elements of ConocoPhillips' HCM strategy include fostering a diverse and inclusive work environment, utilizing data analytics to track key metrics, and implementing initiatives such as employee recognition programs and mental health resources.\",\n",
       " 'ConocoPhillips aims to elevate diversity, equity, and inclusion (DEI) through its SPIRIT values and DEI initiatives. The company has a governance structure in place for accountability and progress tracking.',\n",
       " \"Here is a brief summary of the table or text:\\n\\nConocoPhillips' success depends on having a skilled workforce with diverse backgrounds. The company recruits from universities in the US, monitors diversity metrics through dashboards, tracks voluntary attrition rates, and provides training to develop employees. ConocoPhillips aims to create an environment that promotes retention by valuing its people, developing employees through performance management and 360-feedback tools, and providing benefits and a comprehensive retirement plan. The company also engages in public policy activities, such as lobbying government officials and participating in trade associations, to advance its goals and maintain alignment with its SPIRIT Values.\",\n",
       " 'The ConocoPhillips non-employee director compensation program includes an equity component with a value of $220,000 and a cash component ranging from $115,000 to $50,000.',\n",
       " \"The text appears to be an internal document or memo from ConocoPhillips explaining their corporate governance policies, particularly regarding long-term incentives (LTI) awards such as the one awarded to Mr. Leach in 2022 and 2023 under the Executive Retention Plan (ERP) and Long-Term Incentive Program (LTIP).\\n\\nHere are some key points that summarize the content:\\n\\n1. **Ownership**: As of December 31, 2023, there were 26,439 Shares or Units of Stock held by Mr. Leach that have not vested.\\n2. **Equity Awards**: Outstanding equity awards made to Mr. Leach include:\\n\\t* Long-term incentive awards payable under the ERP and LTIP (e.g., RSUs related to the grant in 2022 and 2023).\\n\\t* Long-term time-vested awards under the LTIP, which have restrictions on transferability.\\n3. **Market Value**: The market value of these awards as of December 31, 2023 is based on a market value of $116.07 per share (the closing stock price of the company's common stock on December 29, 2023).\\n4. **Restrictions**: These awards have restrictions in place that will lapse over time or be forfeited if certain events occur, such as:\\n\\t* Death, disability, layoff, or retirement after age 55.\\n\\t* Change in control or termination of employment after five years of service.\\n5. **Forfeiture**: Upon lapse of these restrictions, settlement is made in stock (i.e., the executive will receive their outstanding equity awards converted into shares).\\n6. **Dividend Equivalents**: Dividend equivalents on held RSUs are reinvested in additional RSUs.\\n\\nOverall, this document appears to outline ConocoPhillips' corporate governance policies and procedures for managing long-term incentives and equity awards that may vest or become forfeited over time.\",\n",
       " 'For each director:\\n\\n* Arriola - $10,000\\n* Devine (retired) - $30,790\\n* Freeman (resigned) - $26,218\\n* Huey Evans - $26,218\\n* Joerres - $19,077\\n* McRaven - $17,967\\n* Mulligan - $20,556\\n* Mullins - $10,000\\n* Murti - $10,000\\n* Niblock - $10,000\\n* Seaton - $10,057\\n* Walker - $10,057',\n",
       " \"The audit committee reviewed and discussed management's assessment of the effectiveness of internal controls over financial reporting as of December 31, 2023.\",\n",
       " \"The ConocoPhillips Audit and Finance Committee proposed to ratify the appointment of Ernst & Young LLP as the independent registered public accounting firm for fiscal year 2024. The committee has evaluated EY's qualifications, independence, and performance and believes continuing to retain EY is in the best interest of ConocoPhillips' stockholders.\",\n",
       " \"The Human Resources and Compensation Committee recommends the advisory approval of ConocoPhillips' executive compensation programs due to their objective nature and alignment with the company's goals.\",\n",
       " 'ConocoPhillips\\' 2023 executive compensation structure is primarily performance-based with elements of equity. The compensation program focuses on rewarding long-term performance and aligning executive pay with the interests of stockholders.\\n\\nThe chart outlines four main components: Annual Salary, Variable Cash Incentive, Operational Performance, and Strategic Milestones. These components aim to achieve competitive values while motivating executives to perform well in areas such as health, safety, and program (\"VCIP\") and strategic milestones and energy operations.',\n",
       " 'Strategic Milestones - 200%, 10% weighting; Energy Transition Milestones - 190%, 10% weighting.',\n",
       " 'ConocoPhillips delivered strong financial and operational performance in 2023, with record production and returns. The company achieved a 17% return on capital employed and competitive returns from its capital allocation framework. ConocoPhillips also strengthened its stock ownership guidelines for non-executive officers (NEOs), aligning executive compensation with market practices and maintaining robust ownership guidelines.',\n",
       " 'Executive Compensation — Strategic Alignment\\nOur executive compensation programs are designed to align compensation with ConocoPhillips’ disciplined, returns-focused strategy and with the long-term interests of our stockholders. Our metrics support our Triple Mandate and are directly tied to our strategic priorities, which provide comprehensive and integrated support for our value proposition. The following diagram maps each metric to our strategic priorities.\\n\\nPSP Executive Compensation Metrics Alignment Strategic Cash Flow Weight With Allocation Priorities Health, Safety, and Environmental (\"HSE\") • Total Recordable Rate (“TRR”) • Process Safety Events 1 Low Sustaining Capital Invest enough Operations • Production • Capital • Operating and Overhead Costs capital to sustain production and pay existing dividend • Operational Milestones Financial 40% VCIP & PSP • Relative Adjusted ROCE 2 Grow Dividend Grow dividend annually Strategic Milestones • Progress LNG business through new PALNG, NFE, and NFS projects, securing several regasiﬁcation and offtake agreements, and building out Reduce Debt our LNG organization • Implement action plans for priority E&S risks and track Maintain ‘A’ credit rating progress against mitigations • Launch our refreshed global DEI strategy and identify how to assess progress in each component of diversity, equity, and inclusion 4 Stockholder Payout Energy Transition Milestones Return at least • Demonstrate progress toward 30% of cash our Plan for the Net-Zero from operations Energy Transition to stockholders • Achieve an annual GHG emissions annually intensity aligned with our 2030 target trajectory range(1), including any updates to the 2030 target',\n",
       " \"Base salary is a component of executive compensation that increases with the individual's job grade, but at a lower rate than overall target incentive compensation. Base salaries are competitive within ConocoPhillips' reference group and adjusted based on individual performance and time in position.\",\n",
       " 'Metrics for EPS and ROCE metrics including relative TSR, peer performance, and adjusted ROCE.',\n",
       " 'Management; The Human Resources department manages committees such as Market Data and Compensation Recommendations. They oversee market data, individual performance metrics, and company performance recommendations from these committee meetings. Management also retains FW Cook as an independent executive compensation consultant to compile compensation data and conduct analyses on behalf of the HRCC.',\n",
       " \"The compensation reference group comprises 25 companies from various industries. The total compensation for each company was compared to the reference group's average, with target compensation structures set at approximately the 50th percentile in base salary and short- and long-term incentive opportunities.\",\n",
       " 'Compensation Discussion and Analysis\\n\\nThe Financial compensation measure strongly aligns with ConocoPhillips\\' returns-focused strategy, which is core to delivering superior returns through price cycles, correlates closely with total shareholder returns (\"TSR\") and value creation for stockholders, and is designed to ensure efficient capital allocation.',\n",
       " 'Effective with the 2023 short-term incentive program, a separately weighted measure for \"Energy Transition Milestones\" was created to guide these milestones. This metric is related to \"Relative Total Shareholder Return.\" TSR serves as a tangible and visible indicator of stockholder value creation during relevant periods.\\n\\nThe Triple Mandate aims to deliver oil and gas production that meets energy transition demand while delivering competitive returns and focusing on achieving net-zero operational emissions ambition. Creating a separate metric further enhances the link between climate commitments and executive compensation programs.',\n",
       " 'Here is a summary of the text:\\n\\nPerformance-Based Programs for NEOs; Actual awards range from zero to 200% of initial award. Performance-based compensation awarded based on degree of difficulty achieving absolute performance targets. Corporate performance payout determined using percentile-based matrix with threshold at 100%. Rewards paid if company achieves targets, capped at 200% of target.',\n",
       " \"Here is a brief summary of the text:\\n\\nConocoPhillips' proxy statement aims to set targets for Total Recordable Rate (TRR), continuous improvement, and process safety events. The company's HSE target is to be an industry leader in this area, with specific targets set at 1,790 MBOED in operations, $11.2 billion in capital expenditures, and $8.2 billion in operating and overhead costs. The company also sets milestones for various areas such as production, exploration, LNG business, energy transition, and compensation discussion and analysis.\",\n",
       " '2023 RESULTS\\n\\nHSE: 20% weighting, Total Recordable Rate (\"TRR\") improved by 1%, and process safety events decreased by zero spills greater than 100 barrels.\\n\\nOperations: Adjusted production was 1,813 MBOED, 1% above target of 1,790 MBOED. Capital spending came in 1% below target of $11.2 billion. Operating and overhead costs were 4% above target of $8.2 billion. Operational milestones achieved with the exception of nxtgenERP.\\n\\nFinancial: Adjusted ROCE relative to peers was 58th percentile, driven by operational performance. payout (122%) reflects ConocoPhillips\\' overall HSE performance.\\n\\nStrategic Milestones: All Strategic Milestones were achieved or exceeded, resulting in a maximum payout of 200%. LNG business progress and DEI strategy implementation reflect exceptional performance.',\n",
       " 'Emissions: ConocoPhillips has achieved a GHG emissions intensity aligned with its target trajectory range, including an increase in the target to 190% by 2030, despite having increased the target slightly due to updates.',\n",
       " 'Executive Compensation Program. ConocoPhillips provides its executives with a total compensation package that includes performance-based awards, long-term incentives, non-equity bonuses, and other benefits. The company recognizes strong leadership during the 2021-2023 performance period and rewards it with a 151% payout, reflecting a 160% return on investment relative to peer group performance metrics.',\n",
       " 'Here is a summary of the Severance Plans and Changes in Control text chunk:\\n\\nConocoPhillips maintains plans to address severance of executives in certain circumstances. These plans include terminating employees with ConocoPhillips and receiving severance pay. Vesting of awards under the Stock Ownership Guidelines accelerates upon change in control event and qualifying termination of employment. The company has a clawback policy to recoup incentive compensation paid by executives, and prohibits pledging or hedging company stock.',\n",
       " 'Total compensation for each executive in 2023: $20,770,673 (R.M. Lance) and $10,192,920 (W.L. Bullock, Jr.). Total compensation for each executive in 2022: $19,972,339 and $7,534,742 respectively, with a combined total of $37,456,415.\\n\\nThe executives also have the following bonuses:\\n- R.M. Lance: $14,842,125\\n- W.L. Bullock, Jr.: $5,141,485\\n- K.B. Rose: $3,242,925\\n- N.G. Olds: $1,473,838\\n- D.E. Macklon: $658,202',\n",
       " 'Payouts for awards made under the PSP 21 in 2021.',\n",
       " \"Here is a brief summary of the text:\\n\\nThe company's executive compensation includes matching contributions, business travel, aircraft costs, personal benefits such as home security and transportation services, professional advice fees, and other perquisites totaling $100.\",\n",
       " 'Grants of Plan-Based Awards Table \\n\\nThis table shows participation by ConocoPhillips NEOs in incentive compensation arrangements, including VCIP and PSP awards. The amounts are based on actual payouts made in February 2024 for the 2023 program year.',\n",
       " 'Outstanding equity awards at fiscal year-end totaled 1.14 billion shares.',\n",
       " 'Here are the two tables:\\n\\n**Table 1: Executive Compensation**\\n\\n| **Employee Name** | **Year** | **Target Units** | **Units Awarded** | **Value per Unit (USD)** |\\n| --- | --- | --- | --- | --- |\\n| Mr. Lance | 2022 | 110,109 | 110,000 | $1,000 |\\n| Mr. Bullock | 2022 | 36,477 | 35,500 | $1,000 |\\n| Ms. Rose | 2022 | 25,993 | 25,800 | $1,000 |\\n| Mr. Olds | 2022 | 21,909 | 20,900 | $1,000 |\\n| Mr. Macklon | 2022 | 23,701 | 22,700 | $1,000 |\\n\\n**Table 2: Potential RSU Awards (ongoing performance periods)**\\n\\n| **Employee Name** | **Year** | **Target Units** | **Units Awarded** | **Value per Unit (USD)** |\\n| --- | --- | --- | --- | --- |\\n| Mr. Lance | 2022 | 110,109 | 110,000 | $1,000 |\\n| Mr. Bullock | 2023 | 26,381 | 26,300 | $1,000 |\\n| Ms. Rose | 2022 | 20,039 | 19,800 | $1,000 |\\n| Mr. Olds | 2022 | 17,080 | 16,900 | $1,000 |\\n| Mr. Macklon | 2022 | 16,927 | 15,700 | $1,000 |\\n\\nNote: The values per unit are based on a market value of approximately $100 USD per share at the time of the grant, and may vary depending on individual circumstances.',\n",
       " \"The article appears to be a summary or description of the compensation plans and benefits offered by ConocoPhillips. Here's a breakdown of what it says:\\n\\n**Compensation Plans:**\\n\\n* The company offers two types of retirement plans:\\n\\t+ Title I - ConocoPhillips Retirement Plan\\n\\t+ Title IV - ConocoPhillips Retirement Plan\\n* The Title I plan is similar to the U.S. retirement plans, while the Title IV plan has some limitations and requirements.\\n* There are also separate plans for Key Employees (KESRP) in Titles II and III.\\n\\n**Key Employee Compensation Plans:**\\n\\n* The KESRP is a plan that provides benefits to key employees who have been with the company for a certain period of time. It calculates benefits based on salary, VCIP (Variable Compensation Income Plan), and other factors.\\n* There are different versions of the KESRP plan, including:\\n\\t+ Title II - ConocoPhillips Retirement Plan\\n\\t+ Title III - ConocoPhillips Key Employee Supplemental Retirement Plan\\n\\n**Unfunded Pension Plans:**\\n\\n* The U.K. Unfunded Pension Plan is a similar plan to the KESRP, but it operates on different assumptions and has different rules for calculating benefits.\\n* Mr. Macklon is vested in his benefit under this plan.\\n\\n**Key Takeaways:**\\n\\n* ConocoPhillips offers two types of retirement plans: traditional U.S. plans and Key Employee Compensation Plans with specific requirements.\\n* The KESRP plan provides benefits to key employees who have been with the company for a certain period, but with some limitations and differences from other plans.\\n* The Unfunded Pension Plan is similar to the KESRP plan but operates on different assumptions and rules.\\n\\nOverall, this appears to be a technical document that outlines the compensation plans and benefits offered by ConocoPhillips. If you're looking for specific information or details about the company's retirement plans, it may provide valuable insights.\",\n",
       " 'Mr. Lance received $160,745 as payments due under the KEDCP for 2023.\\nMs. Rose received $701,707 as deferred compensation payment due under the KEDCP in 2023.\\nMr. Macklon received $347,936 as deferral payments due under the DCMP in 2023.',\n",
       " 'Here is a summary of the table or text chunk:\\n\\nExecutive Severance and Changes in Control includes details about severance packages for NEOs (Non-Executive Officers) and their eligibility, compensation, and benefits. The package covers salary, grants, stock options, and other benefits earned while employed with ConocoPhillips.',\n",
       " 'ConocoPhillips Key Employee Change in Control Severance Plan covers executives in salary grades generally corresponding to vice president and higher under the Compensation Integrity and Compliance Plan (CICSP). If within two years of a \"change in control,\" an executive is terminated by ConocoPhillips other than for cause, or by participant for good reason, they will be entitled to a lump-sum cash payment.',\n",
       " 'Vesting and Involuntary Termination Payments',\n",
       " \"ConocoPhillips' compensation philosophy focuses on rewarding employees who contribute to success, with a competitive structure designed to reflect talent, skills, and experience. The company calculates its median employee's pay ratio to CEO pay as approximately 101:1 based on 2023 data. \\n\\nTotal executive compensation (including nondiscriminatory health and welfare benefits) for the CEO was $20,789,282 in 2023, while the median annual total compensation of all employees except the CEO was $205,547, representing a pay ratio of approximately 101:1.\",\n",
       " 'The text appears to be a comprehensive list of data related to the compensation analysis of five non-executive officers (NEOs) at ConocoPhillips. Here are some key points that can be extracted from this document:\\n\\n1. **Compensation data**: The table provides various metrics, including average SCT Total (Stock Compensation Threshold), Average CAP (Average Cash Payment), and cumulative peer group TSR (Total Stock Return Index for performance peer groups).\\n2. **Ne NEOs included**:\\n\\t* 2023: W.L. Bullock Jr., D.E. Macklon, N.G. Olds, K.B. Rose, T.A. Leach\\n\\t* 2022: W.L. Bullock Jr., T.A. Leach, D.E. Macklon, M.J. Fox (retired), K.B. Rose\\n\\t* 2021: W.L. Bullock Jr., T.A. Leach, D.E. Macklon, M.J. Fox (retired)\\n3. **Performance peer group**: The table lists the five companies included in the performance peer group for 2020 and updates it to include Pioneer Natural Resources after the acquisition of Noble Energy, Inc.\\n4. **Retirement dates**:\\n\\t* M.J. Fox: retired on July 1, 2021\\n\\t* D.E. Wallette Jr.: retired on December 31, 2020\\n\\nThe text does not mention any specific actions or decisions related to the compensation analysis of these NEOs, but it appears that the data is intended for use in determining their total compensation packages and TSR values.',\n",
       " 'Relative Adjusted ROCE is measured as a percentile rank relative to peers over a one-year period. Pay Versus Performance, CAP, and Net Income are linked for purposes of determining executive compensation. Compensation Actually Paid VS. Performance chart shows relationship between CAP, TSR, Net Income, and 1-Year Relative Adjusted ROCE.',\n",
       " \"This text appears to be a corporate disclosure document, likely from ConocoPhillips. Here's a breakdown of what it provides:\\n\\n**Equity Compensation Plan Information**\\n\\n* The plan authorizes the issuance of stock options, stock appreciation rights, and other equity-based awards.\\n* The plan has a total maximum shares available under its terms, which are:\\n\\t+ 1.1 million shares for new stock options and stock awards.\\n\\t+ Less outstanding equity awards made since the plan was adopted (estimated to be around $2 billion).\\n\\t+ Awards under predecessor plans that became available due to forfeiture, cancellation, or cash settlement.\\n\\n**Equity Compensation Plan Structure**\\n\\n* The plan is divided into several components:\\n\\t+ Equity compensation plan for employees and directors.\\n\\t+ Performance share program for certain employees.\\n\\t+ Executive restricted stock units (RSUs) for senior executives.\\n\\t+ Non-qualified stock options with a term of 10 years, exercisable in three equal annual installments.\\n\\n**Units and Shares**\\n\\n* The document lists various types of equity-based awards that can be issued under the plan, including:\\n\\t+ Stock options.\\n\\t+ Stock appreciation rights (SARs).\\n\\t+ Equity units (e.g., stock awards, RSUs).\\n\\t+ Performance shares.\\n\\t+ Restricted stock units (RSUs).\\n\\n**Voting Rights and Transferability**\\n\\n* The document notes that some equity-based awards do not have voting rights, while others may have restrictions on transferability.\\n\\nThe purpose of this document is likely to disclose the company's equity compensation plan to shareholders, which will be used to incentivize employees and directors for their contributions to the company.\",\n",
       " \"Here's a summary of what each section is about:\\n\\n**Section 1: Introduction**\\n\\nNational Legal and Policy Center (NLPC) notifies ConocoPhillips that they intend to present the following proposal at the Annual Meeting. NLPC holds the requisite number of shares in ConocoPhillips and aims to influence shareholder decisions through their notification.\\n\\n**Section 2: Resolution - Revisit Pay Incentives for GHG Emission Reductions**\\n\\nConocoPhillips is an oil and gas company that has been criticized for its executive pay program, which includes unnecessary incentives to combat climate change. The proposal requests the Board of Directors to revisit its incentive guidelines to focus on legitimate fiduciary goals rather than scientifically dubious targets.\\n\\n**Section 3: Supporting Statement - Climate Change**\\n\\nThe supporting statement acknowledges the overwhelming scientific consensus on climate change but argues that the current executive pay program is based on flawed assumptions and creates a breach of fiduciary duty. It suggests eliminating greenhouse gas reduction targets from compensation inducements to focus on what ConocoPhillips does best, which is oil and gas production.\\n\\nOverall, this proposal aims to influence shareholder decisions by highlighting the flaws in ConocoPhillips's executive pay program and advocating for a more responsible approach to climate change mitigation.\",\n",
       " \"The proposal is to approve a change to the company's executive compensation program.\",\n",
       " 'The annual meeting will be virtual only due to logistical issues and cost concerns. Stockholders can attend online and submit questions via the virtual shareholder meeting website. The meeting format aims for transparency similar to in-person meetings, with answers provided in a timely manner.',\n",
       " 'Here is a brief summary of the text:\\n\\nBrokers can vote shares held in street name on routine matters. Those who do not provide voting instructions have their votes counted as \"broker non-votes\". Shares voted for non-routine matters are called broker non-votes, and may be voted pro rata by plan trustees if they hold shares through ConocoPhillips employee benefit plans.',\n",
       " 'The voting process involves several parties, including:\\n\\n* Broadridge Financial Solutions, Inc. (to count votes)\\n* James D. Gaughan of Gaughan ADR (Inspector of Election) \\n* Brokers (who may vote on certain proposals without specific instructions from beneficial owners)\\n* The Board of Directors of ConocoPhillips (which recommends voting decisions for various matters)\\n\\nThe voting requirements include:\\n\\n* Holding a majority of outstanding shares as of March 18, 2024\\n* Participating in the meeting and voting electronically or through proxy\\n* Presenting at the meeting with a quorum (at least 133 shareholders)',\n",
       " 'Cost of soliciting proxies. $20,000',\n",
       " 'Free Cash Flow: $10,401 million (Year Ended 12/31/2023) \\nReturn on Capital Employed (ROCE): 17% ($10,957 million, Year Ended 12/31/2023)',\n",
       " 'Toll-free numbers: 800-356-0066 \\nOutside US: 201-680-6578\\nFor TDD inquiries, contact: 800-231-5469 or 201-680-6610',\n",
       " 'ConocoPhillips is a global independent energy company with production and proved reserves. The 2023 AIM meeting focused on its strategy and portfolio, particularly in Alaska and the Lower 48 regions of the US, as well as its LNG and commercial business.',\n",
       " \"ConocoPhillips' EVP and CFO Bill Bullock; EVP and CFO Nick Olds; CEO Ryan Lance.\",\n",
       " 'Annualized gas price escalation of $8/MMBTU at 2.25% annually; cost and capital de-escalation in line with price escalation; CAGR calculations for 2023-2032; inclusion of carbon tax in cash flow forecasts for assets with or without existing tax policies; Cost of Supply displayed in WTI, including carbon policy where applicable.',\n",
       " \"Management's expectations and assumptions regarding future results are based on ongoing plans and objectives and are subject to change. Actual outcomes may differ from those expressed due to various factors including commodity price declines, global market conditions, security threats, changes in regulatory policies, and liquidity issues affecting the company's ability to repurchase shares or declare dividends.\",\n",
       " 'Delays in achieving expected reserve or production levels from existing and future oil and gas developments.',\n",
       " 'The company is committed to deploying net proceeds in the anticipated manner and timeframe, but may face potential liabilities under environmental regulations and litigation related to its transaction with Concho Resources Inc.',\n",
       " \"Company uses various non-GAAP financial measures, including historical and forward-looking non-GAAP measures like resource estimates, to compare operating performance across periods and with peers; estimates of GAAP measures are difficult due to future events' unpredictability.\",\n",
       " \"ConocoPhillips' 2024 E&P Strategy\\n\\nThe macro overview includes ConocoPhillips as the must-own E&P company due to its diversified production base.\",\n",
       " \"ConocoPhillips' commitment to reducing greenhouse gas emissions and achieving net-zero by 2050, aligned with its 2030 target for increased GHG intensity reduction.\",\n",
       " 'Clear and Consistent Priorities\\n\\n1 Sustain production and pay dividend\\n2 Annual dividend growth\\n3 A-rated balance sheet\\nA >30% of CFO shareholder payout.',\n",
       " 'Peer leading ROCE improving through time\\n10-year plan details: BL WTI production, upside sensitivity, distributions, CFO and distribution percentages, planning price and capital expenditures\\nTop quartile ordinary dividend growth rate: >90% market cap\\nFCF breakeven price per barrel of oil equivalent (BBL)',\n",
       " 'Cash includes cash, cash equivalents, restricted cash and short-term investments.\\nMarket cap of ~$121B at March 31, 2023, close.\\nAverage over the next 10 years CAGRs calculated from FY2024 at $60/BBL WTI.\\nCFO, FCF, and ROCE are non-GAAP measures.',\n",
       " 'ConocoPhillips has a rigorous capital allocation framework with a disciplined reinvestment rate, investing ~20 BBOE per year, underpinned by cost of supply analysis.',\n",
       " 'Industry growth focus for ConocoPhillips: high reinvestment rates (100%, 50%, and 6%) drive superior returns, CFO growth, and capital appreciation.',\n",
       " \"Historic Reinvestment Rate: ConocoPhillips' reinvestment rate and cash from operations increased to $80/BBL WTI starting in 2023E, while at $60/BBL WTI from 2012-2016.\",\n",
       " 'Cost of Supply = Our North Star; Required to achieve a 10% return in point-forward.',\n",
       " \"Low Cost of Supply Wins. ConocoPhillips' well performance is reflected in its proven reserves and production growth, with balanced investment criteria reinforcing resilient returns.\",\n",
       " 'Cost of Supply\\nReturns on capital Balance of short-cycle unconventional conventional Oil NGL North American Gas International Gas Production (MBOED) PNG = Surmont Production CAGE Unconventional (Lower 48 + Montney) CAGR Unreinvestment rate',\n",
       " \"ConocoPhillips has a diverse production base with over 20 billion barrels equivalent (BBOE) in resources. The company's cost structure is based on an average $46 per barrel, with lower costs and higher prices impacting the BBL price.\",\n",
       " 'Production (2016-2022): 1.6 million barrels of oil equivalent per day (BBBLT); \\nWorking Interest Acreage: Shell Permian acreage; \\nConsolidations and Acquisitions:\\nAcquisition Year | Acquisition Volume (BBBLT)\\n----------------|-----------------------------------\\n2018          | $3\\n2020           | N/A\\n2022         | ~$22',\n",
       " \"CO, e/BOE grossed $9B in '22; $6B from acquisitions; $3B from divestitures.\",\n",
       " \"Methane venting and flaring to reduce emission intensity, electircation optimization, and strategic pilots can be used to accelerate the company's GHG-Intensity Reduction Target.\",\n",
       " 'ConocoPhillips aims to reduce Scope 1 and 2 emissions by 50% over the next five years through LNG use, with a goal of reaching net-zero ambition.',\n",
       " 'U.S. electric power sector emissions have dropped over 50,000 units in the last decade, with a significant shift from coal to natural gas as a primary source of energy.',\n",
       " 'LNG reduced carbon intensity in U.S. electricity by approximately 40% compared to domestic coal power, with a potential increase to over 300 million metric tons per annum by 2050.',\n",
       " \"Capital: ConocoPhillips' 2023 capital was $11 billion, expected to increase to $22.1 billion in 2024 and average an additional 10% per year through 2029 and 2030.\",\n",
       " 'CFM > $115B\\nOver the Next 10 Years at $60/BBL WTI\\n$35/BBL WTI FCF Breakeven\\nAverage Over the Next 10 Years\\nFCF, non-GAAP measure, defined in Appendix',\n",
       " 'Qatar LNG resource expansion, existing infrastructure, and conventional assets.',\n",
       " 'Material low cost of supply; resource base; average cost of supply; existing infrastructure leverage',\n",
       " 'Capital-Efficient Production Growth\\n\\nUnderpins Growing Distribution Capacity\\n\\nOil: 60% NGL: 5% North American Gas: 5% International Gas: 30%\\n\\n1,200 units per year',\n",
       " \"ConocoPhillips' projected growth over the next decade, with a CAG R of 4%, underpinned by increasing production at $60 per barrel WTI.\",\n",
       " 'ConocoPhillips has acquired 90% of volumes under long-term contracts, with shares increasing in value and expected to be recouped by the end of Q2 2023. The company also plans to acquire additional shareholding interest and prepare for taking over upstream operatorship upon Origin Sale.',\n",
       " \"Growing Reliable LNG Cash Flows\\nSubject to ElG acquisition and ConocoPhillips' shareholding, the cash flows from ConocoPhillips' reliable low-CO2 production will remain stable.\",\n",
       " 'First New Pad Drilled Since 2016 Developed at <$15/BBL WTI CoS\\nTransformative Emissions Reduction Opportunities \\nRecord 2H 2022 production\\n24 Well Pairs with 25 MBOED Gross Peak Rate \\nAdvantaged operating cost due to top-quartile steam-oil ratio',\n",
       " 'Record production in new pads, with average well cost decreasing by 4-30% due to new technologies and CCS/offsets.',\n",
       " 'Increases production plateau from 2020s to 2030s.',\n",
       " 'ConocoPhillips has concluded testing of multiple well configurations and completion designs. Two new rigs are being added in 2024. A continuous frac crew is currently running, with recent strong results leading to a high-graded development plan that includes a CPF2 start-up expected in Q3 2023.',\n",
       " 'Cost of Supply Improvement ($/BBL WTI)\\n\\nCurrent: $0\\nDriving to: $40',\n",
       " 'Production (MBOED)\\n\\n150\\n100\\n50\\n0\\n2023E\\n2024-2028\\n2029-2032\\nAverage\\nAverage\\n\\n20% CAGR Over 10 Years\\nConocoPhillips \\n24\\nInternational Conventional: Steady Cash Flow Generator\\nWw \\nBrent-Linked Oil and International Gas \\nNorway — 115 MBOED \\n* Four subsea tie backs on track for onstream in 2024\\n* Greater Ekofisk Area license extended through 2048',\n",
       " 'ConocoPhillips has increased its working interest in the Waha Concession to ~20% and holds a long-term optionality. Malaysia is producing 40 MBOE, primarily from low-cost projects offsetting decline. China has entered into an agreement with ConocoPhillips for production sharing contracts, with terms aligning to 2039 and progressing offshore windfarm development.',\n",
       " 'ConocoPhillips projects $25 billion in free cash flow over the next 10 years at $60 per barrel of West Texas Intermediate crude.',\n",
       " 'ConocoPhillips has a robust inventory of projects with a 25-barrel oil equivalent (BBL) cost of supply for over a decade.',\n",
       " \"ConocoPhillips' production growth has slowed down over the past decade, with 40+ years of consistent operations yielding a marginal increase.\",\n",
       " 'ConocoPhillips has invested heavily in legacy infrastructure, including central processing facilities and pipeline systems, but the company believes these investments provide a significant opportunity without taking on mega-project risks.',\n",
       " 'ConocoPhillips owns all shares through Hilts VCore, a governance structure; no \"first-of-a-kind\" designs; executes similar contracts over five years with North Slope proven contractors; builds facilities in U.S. by top-tier Gulf Coast contractors; 27 active projects under ConocoPhillips\\' ownership',\n",
       " 'Capex $1-1.5B per year, 2024-2028\\nDrill site construction and expansion, up to First Oil Infrastructure and pipelines\\nInfrastructure development\\nLight crude production, premium quality\\nExisting pipeline infrastructure utilization',\n",
       " 'Production (MBOED) - total production forecast for ConocoPhillips, split by year and pipeline construction milestones.',\n",
       " '* >$50B FCF and ~40% Reinvestment Rate\\n* Over the Next 10 Years at $60/BBL WTI',\n",
       " 'Rapidly Growing LNG Market\\nAdding North America to Low-Cost LNG Footprint\\nExtensive Commercial Footprint\\nRobust demand in Asia and Europe driven by energy security and the energy transition\\nPort Arthur is a premier LNG development\\nGlobal market presence\\nQatar and Australia are foundational LNG investments\\nLong-term optionality on the Gulf and West Coasts\\nSecond-largest natural gas marketer in North America!\\nNorth American gas production fuels LNG supply growth\\nOfftake margins enhanced by diversion capability',\n",
       " 'Key LNG supply and demand markets by 2035.\\n\\nConocoPhillips Global Net LNG Exposure (MTPA).',\n",
       " \"ConocoPhillips' net capital spend in 2023 was $3.7 billion, with significant LNG demand from Asia and Europe. The company also secured a reliable LNG supply in Qatar and Australia, while North America dominated LNG supply growth due to its dominance of the market.\",\n",
       " 'ConocoPhillips FID of Port Arthur Phase 1, approved by FERC.',\n",
       " 'Low-Cost Offtake Secured: ¥7.6B MITPA (5) \\nMarketing underway; up to six additional trains; ECA Phase 1 offtake agreement; 220-year term; Wood Mackenzie Q4 2022 contract fee',\n",
       " \"ConocoPhillips Commercial Advantage\\nWw\\nPort Arthur LNG Marketing Example: Sale into Germany\\nGlobal Marketing Presence \\n>10 BCFD and >1 MMBOD!\\nEuropean Re-Gas\\nLondon Singapore Houston Calgary Beijing Tokyo\\ne = ] ] uy | ConocoPhillips holds re-gas capacity in Germany's first offshore p g p y y onshore LNG terminal for portion of Port Arthur LNG\",\n",
       " 'Global Gas production 9x equity gas, 6.0 GWh, ~1 MTPA; powered spot sales through European trading hub; Setar oil licensing; optimized global LNG cascade process; commercial marketing managed by experienced team.',\n",
       " 'Global Crude and NGL: 25 cargoes marketed globally per month; 45% Brent-linked\\nNorth American export capacity: 180 MBOD',\n",
       " 'The ConocoPhillips Lower 48 portfolio consists of an unconventional producer with significant production growth and material free cash flow.',\n",
       " \"ConocoPhillips' lower 48 unconventional production in 2022 was 1,200 barrels per day.\",\n",
       " \"ConocoPhillips' production in the US is growing as a top unconventional producer of oil and natural gas.\",\n",
       " \"ConocoPhillips' inventory spans over 659,000 net acres in the onshore United States.\",\n",
       " 'High Single-Digit Production Growth\\n\\n12-Month Cumulative Production (BOE/FT), Delaware Basin Well Capex/EUR, 12 months for the first half of 2022.',\n",
       " 'ConocoPhillips has 38 wells in the Midland Basin, with a high margin play spanning over 251,000 net acres.',\n",
       " 'Midland Basin Well Capex/EUR* ($/BOE) 25 20 Low High EE sCCost of Supply?\\n\\nLow to Mid Single-Digit Production Growth 15 10 wy ConocoPhillips',\n",
       " \"Trade-in costs are up by approximately 330%. New acreage trade metrics show a cost improvement of 330% compared to previous year's lateral length extensions.\",\n",
       " \"ConocoPhillips' Permian Drives Free Cash Flow in Lower 48\\n~7%\\n10-Year Production CAGR\\n50%\\nReinvestment Rate!\\n$35.\",\n",
       " 'Production growth plateaued at 1,200 MBOED.',\n",
       " '41 E&P units, combined net acres of 199,000 in Eagle Ford and 560,000 in Bakken.',\n",
       " 'Consistent and proven track record in Basin Sweet Spots with sustained production over the decade.',\n",
       " '$20B FCF expected over next 10 years at $60/BBL WTI. Delivers from ConocoPhillips Bakken Mi Eagle Ford, sources: Enverus and ConocoPhillips (March 2023).',\n",
       " 'Enhancing Value and Lowering Emissions through Technology\\n\\nReal-time analytics improve curve build time by 20% \\nDual fuel and E-frac reduce emissions ~10% to ~40% compared to diesel\\nReal-time intelligent production surveillance, automation and process optimization\\nPermian drilling efficiencies! improved ~50% since 2019',\n",
       " 'Lower 48 GHG Intensity: 28 kg COe/BOE, a 50% reduction from 2019 to 2022.\\nLower 48 Associated Gas Flaring: a 1.7% to 80% reduction over the same period. \\nPermian Recycled Frac Water: a 52% increase since 2019, with plans to further reduce this by focusing on water reuse.',\n",
       " \"ConocoPhillips' electrifying compression technology is optimized for D&C power, with preliminary estimates indicating a reduction in gross operated GHG emissions.\",\n",
       " 'Production: 1,600 MMBOED per year, with an average production rate of 800-400 MBOED from 2023E to 2032A.',\n",
       " 'Consistent returns, increasing cash flow into the next decade, peer-leading ROCE growth.',\n",
       " \"ConocoPhillips has maintained a resilient balance sheet through various business cycles. The company prioritizes financial stability with stress-tested financial capabilities, as evidenced by its Five-Year Average ROCE of 16%. ConocoPhillips' peers and integrated counterparts have achieved similar or higher returns on capital compared to it.\",\n",
       " 'Earnings ($B)\\nLow Cost of Supply Investments Fuel Expanding Margins: $60/BBL\\nReturn on Capital Employed (ROCE): 40% \\nReturn on Capital Employed (ROCE) to be near-term delivered at S&P 500 top quartile level.',\n",
       " 'Table: Appendix\\nEarnings: Cash Flow Growth into the Next Decade, Free Cash Flow and CAGR.',\n",
       " 'Annual CFO available: $5B @ $80/BBL WTI\\nAverage FCF from longer-cycle projects: ~$3.5B',\n",
       " \"ConocoPhillips has delivered a significant track record in meeting its capital allocation priorities, with consistent execution on leading distribution initiatives. The company's CFO-based framework has generated robust returns of capital through strategic investing and divestitures.\",\n",
       " 'Compelling Shareholder Returns Through Cycles; Tier 1 includes dividend payments and share buybacks as percentage of CFO and year-end market cap, respectively; Tier 2 incorporates integrated peers such as CVX and XOM; Tier 3 refers to independent peers including APA, DVN, EOG, HES, OXY, and PXD.',\n",
       " 'ConocoPhillips has reduced its net debt to $60 per barrel of Brent crude, on track for a 1.0% return for the year, with an expected annual interest payment of $250 million and extended average maturity by three years from 2024-2028 to 3024-2032.',\n",
       " 'Average E&P production and proved reserves.',\n",
       " 'Our Rationale for Holding Cash\\nLonger-cycle projects Share buybacks Strategic ; God Down-cycle price protection ; Business development optionality Maintain near-term Reserve Cash ~$2-3B operating plan even with price volatility Operating Cash Daily operating and ~$1B working capital',\n",
       " 'Net Debt/CFO ratio 1.5:1; CFO under pressure, cash flow remains consistent',\n",
       " \"ConocoPhillips' 10-year plan ($B) outlines financial targets, including a peak ROCE of $350 by 2032.\",\n",
       " 'ConocoPhillips remains a must-own E&P company with a strong balance sheet and diversified portfolio; net-zero 2050 ambition progressing, GHG emissions intensity reduction target accelerating; balanced principles in place for superior returns through cycles.',\n",
       " \"ConocoPhillips' 2024 financial prospects are expected to experience a 6% compound annual growth rate (CAGR) in cash from operations, driven by the company's strong production and proved reserves.\",\n",
       " 'Greater Prudhoe, Greater Willow, and Greater Kuparuk areas in Alaska.',\n",
       " \"ConocoPhillips' total crude oil production for 2024 was 57 barrels per day (BPD) and West Texas Intermediate (WTI) prices were $68.50 per barrel.\",\n",
       " \"ConocoPhillips' ROCE has improved over the years, with a decrease from -4% to 10%.\",\n",
       " \"ConocoPhillips' non-GAAP reinvestment rate over the years: 93%, 97%, 132%, 99%, 100%, 65%, 55%, 57%, 91%, 34%\",\n",
       " \"ConocoPhillips' reinvestment rates vary significantly between 2012-2016 and 2017-2022.\",\n",
       " 'Reinvestment rate: calculated by dividing total capital expenditures by cash from operations.',\n",
       " \"ConocoPhillips' Cost of Supply is WTI equivalent price plus 10% return on a point-forward and fully burdened basis.\",\n",
       " \"Distributions refers to return of capital, which includes ordinary dividends, share repurchases, and variable return of cash. Cash from operations is a key metric for determining the company's financial health.\",\n",
       " 'Resource life: 20 years\\nReturn on Capital: $4.46 billion']"
      ]
     },
     "execution_count": 299,
     "metadata": {},
     "output_type": "execute_result"
    }
   ],
   "source": [
    "text_summaries"
   ]
  },
  {
   "cell_type": "code",
   "execution_count": null,
   "metadata": {},
   "outputs": [],
   "source": []
  },
  {
   "cell_type": "markdown",
   "metadata": {},
   "source": [
    "### <font color=\"\">Load Data and Summaries to VectorStore</font>"
   ]
  },
  {
   "cell_type": "code",
   "execution_count": 300,
   "metadata": {},
   "outputs": [],
   "source": [
    "vectorstore = Chroma(collection_name=\"multi_modal_rag\", embedding_function=OpenAIEmbeddings())"
   ]
  },
  {
   "cell_type": "code",
   "execution_count": 301,
   "metadata": {},
   "outputs": [],
   "source": [
    "store = InMemoryStore()"
   ]
  },
  {
   "cell_type": "code",
   "execution_count": 302,
   "metadata": {},
   "outputs": [],
   "source": [
    "id_key = \"doc_id\""
   ]
  },
  {
   "cell_type": "code",
   "execution_count": 303,
   "metadata": {},
   "outputs": [],
   "source": [
    "retriever = MultiVectorRetriever(\n",
    "    vectorstore=vectorstore,\n",
    "    docstore=store,\n",
    "    id_key=id_key,\n",
    ")"
   ]
  },
  {
   "cell_type": "code",
   "execution_count": 304,
   "metadata": {},
   "outputs": [],
   "source": [
    "# Text\n",
    "doc_ids = [str(uuid.uuid4()) for _ in texts]\n",
    "summary_texts = [\n",
    "    Document(page_content=summary, metadata={id_key: doc_ids[i]}) for i, summary in enumerate(text_summaries)\n",
    "]\n",
    "retriever.vectorstore.add_documents(summary_texts)\n",
    "retriever.docstore.mset(list(zip(doc_ids, texts)))\n",
    "\n",
    "# Tables\n",
    "table_ids = [str(uuid.uuid4()) for _ in tables]\n",
    "summary_tables = [\n",
    "    Document(page_content=summary, metadata={id_key: table_ids[i]}) for i, summary in enumerate(table_summaries)\n",
    "]\n",
    "retriever.vectorstore.add_documents(summary_tables)\n",
    "retriever.docstore.mset(list(zip(table_ids, tables)))\n",
    "\n",
    "# Images\n",
    "img_ids = [str(uuid.uuid4()) for _ in images]\n",
    "summary_img = [\n",
    "    Document(page_content=summary, metadata={id_key: img_ids[i]}) for i, summary in enumerate(image_summaries)\n",
    "]\n",
    "retriever.vectorstore.add_documents(summary_img)\n",
    "retriever.docstore.mset(list(zip(img_ids, images)))"
   ]
  },
  {
   "cell_type": "markdown",
   "metadata": {},
   "source": [
    "### RAG Pipeline"
   ]
  },
  {
   "cell_type": "code",
   "execution_count": 305,
   "metadata": {},
   "outputs": [],
   "source": [
    "def parse_docs(docs):\n",
    "\n",
    "    b64 = []\n",
    "    text = []\n",
    "\n",
    "    for doc in docs:\n",
    "        try:\n",
    "            b64decode(doc)\n",
    "            b64.append(doc)\n",
    "        except Exception as e:\n",
    "            text.append(doc)\n",
    "\n",
    "    return {\"images\": b64, \"texts\":text}"
   ]
  },
  {
   "cell_type": "code",
   "execution_count": 306,
   "metadata": {},
   "outputs": [],
   "source": [
    "def build_prompt(kwargs):\n",
    "\n",
    "    docs_by_type = kwargs[\"context\"]\n",
    "    user_question = kwargs[\"question\"]\n",
    "\n",
    "    context_text = \"\"\n",
    "\n",
    "    if len(docs_by_type[\"texts\"]) > 0:\n",
    "        for text_element in docs_by_type[\"texts\"]:\n",
    "            context_text += text_element.text\n",
    "\n",
    "\n",
    "    prompt_template = f\"\"\"\n",
    "    \n",
    "    You are an AI assistant tasked with answering user queries using only the provided context. \n",
    "    The context may contain **text, tables, and images** extracted from documents.\n",
    "\n",
    "    - If the answer is **not found in the context**, respond with: \n",
    "        **\"Sorry, I am not able to answer the question.\"**\n",
    "    - Do **not** use external knowledge or assumptions.\n",
    "    - Ensure numerical accuracy for table data.\n",
    "\n",
    "    ### Context:\n",
    "    {context_text}\n",
    "\n",
    "    ### User Question:\n",
    "    {user_question}\n",
    "\n",
    "    Provide a **clear, concise, and well-structured answer** based on the context.\n",
    "    \n",
    "    \"\"\"\n",
    "\n",
    "    prompt_content = [{\"type\": \"text\", \"text\": prompt_template}]\n",
    "\n",
    "    if len(docs_by_type[\"images\"]) > 0:\n",
    "        for image in docs_by_type[\"images\"]:\n",
    "            prompt_content.append(\n",
    "                {\n",
    "                    \"type\": \"image_url\",\n",
    "                    \"image_url\": {\"url\": f\"data:image/jpeg;base64,{image}\"},\n",
    "                }\n",
    "            )\n",
    "\n",
    "    return ChatPromptTemplate.from_messages(\n",
    "        [\n",
    "            HumanMessage(content=prompt_content)\n",
    "        ]\n",
    "    )"
   ]
  },
  {
   "cell_type": "code",
   "execution_count": 307,
   "metadata": {},
   "outputs": [],
   "source": [
    "chain = {\n",
    "    \"context\": retriever | RunnableLambda(parse_docs),\n",
    "    \"question\": RunnablePassthrough(),\n",
    "} | RunnablePassthrough().assign(\n",
    "    response=(\n",
    "        RunnableLambda(build_prompt)\n",
    "        | ChatOpenAI(model=\"gpt-4o-mini\")\n",
    "        | StrOutputParser()\n",
    "    )\n",
    ")"
   ]
  },
  {
   "cell_type": "code",
   "execution_count": 308,
   "metadata": {},
   "outputs": [],
   "source": [
    "response = chain.invoke(\n",
    "    \"What are the future plans of Conocophillips\"\n",
    ")"
   ]
  },
  {
   "cell_type": "code",
   "execution_count": 309,
   "metadata": {},
   "outputs": [
    {
     "name": "stdout",
     "output_type": "stream",
     "text": [
      "ConocoPhillips is focused on operational excellence and has outlined several future plans, including:\n",
      "\n",
      "1. **Pipeline Construction and Infrastructure**: Plans include the construction and delivery of the first pipeline, complete tie-ins to fabrication and new drill sites, and utilization of existing infrastructure.\n",
      "\n",
      "2. **Central Processing Facility**: The procurement of a central processing facility is part of their strategy, along with commencing a drilling program.\n",
      "\n",
      "3. **Commitment to Safety**: The company prioritizes safety, aiming to operate more safely, efficiently, and responsibly, with a focus on minimizing human error as a part of their operational culture.\n",
      "\n",
      "4. **Engaging Stakeholders**: They emphasize the importance of regular engagement with stakeholders including stockholders, employees, customers, suppliers, advocacy groups, governments, and communities for long-term success.\n",
      "\n",
      "5. **Energy Transition Positioning**: ConocoPhillips believes they are well positioned for the energy transition, indicating a forward-looking approach to adapting to changing energy landscapes.\n",
      "\n",
      "These initiatives reflect their commitment to maintaining a strong operational framework while addressing future energy needs and stakeholder engagement.\n"
     ]
    }
   ],
   "source": [
    "print(response['response'])"
   ]
  },
  {
   "cell_type": "code",
   "execution_count": null,
   "metadata": {},
   "outputs": [],
   "source": []
  }
 ],
 "metadata": {
  "kernelspec": {
   "display_name": "Python 3 (ipykernel)",
   "language": "python",
   "name": "python3"
  },
  "language_info": {
   "codemirror_mode": {
    "name": "ipython",
    "version": 3
   },
   "file_extension": ".py",
   "mimetype": "text/x-python",
   "name": "python",
   "nbconvert_exporter": "python",
   "pygments_lexer": "ipython3",
   "version": "3.12.9"
  }
 },
 "nbformat": 4,
 "nbformat_minor": 4
}
